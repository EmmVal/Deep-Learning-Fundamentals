{
 "cells": [
  {
   "cell_type": "markdown",
   "id": "e51b7af6-2445-436f-80c2-7896cea0c00f",
   "metadata": {},
   "source": [
    "Here's an example code for computing a single perceptron layer using PyTorch for a classification problem. In this case, we'll use binary classification with a sigmoid activation function and binary cross-entropy loss (BCELoss)."
   ]
  },
  {
   "cell_type": "code",
   "execution_count": null,
   "id": "c985bbb3-7f36-42ad-bc7f-97ad087fb899",
   "metadata": {},
   "outputs": [],
   "source": [
    "import torch\n",
    "import torch.nn as nn\n",
    "import torch.optim as optim\n",
    "\n",
    "# Define a single layer perceptron model for classification\n",
    "class SingleLayerPerceptron(nn.Module):\n",
    "    def __init__(self, input_size):\n",
    "        super(SingleLayerPerceptron, self).__init__()\n",
    "        # Single fully connected layer\n",
    "        self.fc = nn.Linear(input_size, 1)\n",
    "        # Sigmoid activation function for binary classification\n",
    "        self.sigmoid = nn.Sigmoid()\n",
    "    \n",
    "    def forward(self, x):\n",
    "        # Forward pass: fully connected layer followed by sigmoid activation\n",
    "        x = self.fc(x)\n",
    "        x = self.sigmoid(x)\n",
    "        return x\n",
    "\n",
    "# Parameters\n",
    "input_size = 3  # Number of input features\n",
    "learning_rate = 0.01\n",
    "\n",
    "# Initialize the model, loss function, and optimizer\n",
    "model = SingleLayerPerceptron(input_size)\n",
    "criterion = nn.BCELoss()  # Binary Cross Entropy Loss for binary classification\n",
    "optimizer = optim.SGD(model.parameters(), lr=learning_rate)\n",
    "\n",
    "# Example input (batch size of 2, each with 3 features)\n",
    "inputs = torch.tensor([[0.5, 0.3, 0.2], [0.6, 0.1, 0.8]], dtype=torch.float32)\n",
    "\n",
    "# Example target output (binary classification)\n",
    "targets = torch.tensor([[1.0], [0.0]], dtype=torch.float32)\n",
    "\n",
    "# Forward pass: compute the output\n",
    "outputs = model(inputs)\n",
    "\n",
    "# Compute the loss\n",
    "loss = criterion(outputs, targets)\n",
    "\n",
    "# Backward pass and optimization\n",
    "optimizer.zero_grad()\n",
    "loss.backward()\n",
    "optimizer.step()\n",
    "\n",
    "# Print outputs and loss\n",
    "print(\"Outputs:\", outputs)\n",
    "print(\"Loss:\", loss.item())\n"
   ]
  },
  {
   "cell_type": "markdown",
   "id": "f1d60b18-189b-4957-9755-1a6107e6659d",
   "metadata": {},
   "source": [
    "Key Components:\n",
    "Model Definition: SingleLayerPerceptron with one fully connected layer and a sigmoid activation function to output probabilities (for binary classification).\n",
    "Loss Function: BCELoss is used for binary classification, as it works well with probabilistic outputs (between 0 and 1).\n",
    "Forward Pass: The output of the linear layer is passed through a sigmoid activation function to predict the probability of the positive class.\n",
    "Optimization: Stochastic Gradient Descent (SGD) for updating the model weights.\n",
    "This is a basic perceptron for binary classification tasks, which outputs a probability between 0 and 1."
   ]
  },
  {
   "cell_type": "code",
   "execution_count": null,
   "id": "83ad4cc2-9418-40d8-8727-72a188188d7c",
   "metadata": {},
   "outputs": [],
   "source": []
  },
  {
   "cell_type": "code",
   "execution_count": null,
   "id": "6840d32f-892c-4ce9-9f33-6cde3d65968c",
   "metadata": {},
   "outputs": [],
   "source": []
  },
  {
   "cell_type": "code",
   "execution_count": null,
   "id": "4d62b818-b878-4a8c-965b-c81ac04a2b3a",
   "metadata": {},
   "outputs": [],
   "source": []
  },
  {
   "cell_type": "code",
   "execution_count": null,
   "id": "ef1ef12a-ca79-4d81-ada8-f1fadd077403",
   "metadata": {},
   "outputs": [],
   "source": []
  }
 ],
 "metadata": {
  "kernelspec": {
   "display_name": "Python 3 (ipykernel)",
   "language": "python",
   "name": "python3"
  },
  "language_info": {
   "codemirror_mode": {
    "name": "ipython",
    "version": 3
   },
   "file_extension": ".py",
   "mimetype": "text/x-python",
   "name": "python",
   "nbconvert_exporter": "python",
   "pygments_lexer": "ipython3",
   "version": "3.11.7"
  }
 },
 "nbformat": 4,
 "nbformat_minor": 5
}
