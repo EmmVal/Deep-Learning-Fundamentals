{
 "cells": [
  {
   "cell_type": "code",
   "execution_count": 9,
   "id": "ba79a5cf-c15f-460b-b592-bd62abeff89a",
   "metadata": {},
   "outputs": [],
   "source": [
    "import math\n",
    "import pandas as pd\n",
    "import numpy as np\n",
    "import os\n",
    "import pickle \n",
    "import datetime\n",
    "import plotly.express as px\n",
    "import geopy.distance\n",
    "import geopandas as gpd\n",
    "from area import area"
   ]
  },
  {
   "cell_type": "code",
   "execution_count": 10,
   "id": "bccdc3e1-eb53-4f96-a99d-b0414409df00",
   "metadata": {},
   "outputs": [],
   "source": [
    "def format_date(x,format):\n",
    "    if pd.isna(x):\n",
    "        return np.nan\n",
    "    else:\n",
    "        return datetime.datetime.strptime(str(x),format)"
   ]
  },
  {
   "cell_type": "code",
   "execution_count": 11,
   "id": "a57a08c3-baa5-4d7a-a67b-8424dd041566",
   "metadata": {},
   "outputs": [],
   "source": [
    "def format_int(x):\n",
    "    if pd.isna(x) or not str(x).replace('.','').isnumeric():\n",
    "        return np.nan\n",
    "    else:\n",
    "        return int(x)"
   ]
  },
  {
   "cell_type": "code",
   "execution_count": 12,
   "id": "29026a3b-4765-4b08-8c1d-bea6ac1f1425",
   "metadata": {},
   "outputs": [],
   "source": [
    "def map_function_spread(db,lat,lon,level,size,type_map=\"open-street-map\",color = 'Log crimes',zoom=4):\n",
    "    \n",
    "    df = db.groupby([level,lat,lon])[size].sum().reset_index().copy()\n",
    "    df['Log crimes'] = [math.log(1+x) for x in df[size]]\n",
    "    df['Hover_title'] = [f'Postcode: {int(lev)}' for lev in df[level]]\n",
    "    \n",
    "    fig = px.scatter_mapbox(df, lat=lat, lon= lon,color= color,size=\"Log crimes\", zoom=zoom,\n",
    "                      mapbox_style= type_map\n",
    "                    ,size_max = 10,\n",
    "                    width=1000,\n",
    "                    height=850\n",
    "                    ,opacity = .7\n",
    "                     ,color_continuous_scale='Inferno',\n",
    "                      hover_name='Hover_title')\n",
    "    #fig.write_image('Images//'+f\"{title}.png\",engine=\"kaleido\")\n",
    "    fig.show() "
   ]
  },
  {
   "cell_type": "code",
   "execution_count": 13,
   "id": "6ed34904-50d9-46a2-89c6-24a2eb6fc008",
   "metadata": {},
   "outputs": [],
   "source": [
    "def area_for_coordenates(df,var_cor):\n",
    "    ar = []\n",
    "    for i in range(len(df[var_cor])):\n",
    "\n",
    "        #code for multypoligons to sum all their areas\n",
    "        if str(type(df.iloc[i]['geometry'])) == \"<class 'shapely.geometry.multipolygon.MultiPolygon'>\":\n",
    "            aux_a = []\n",
    "            for cor in [list(x.exterior.coords) for x in df.iloc[i]['geometry'].geoms]:\n",
    "                coordinates = [list(x) for x in cor]\n",
    "                aux_a.append(area({'type':'Polygon','coordinates': [coordinates]})/1000000)\n",
    "            ar.append(sum(aux_a))\n",
    "            \n",
    "        else:\n",
    "            cor = list(df.iloc[i]['geometry'].exterior.coords)\n",
    "            coordinates = [list(x) for x in cor]\n",
    "            ar.append(area({'type':'Polygon','coordinates': [coordinates]})/1000000) #km2\n",
    "    return ar"
   ]
  },
  {
   "cell_type": "code",
   "execution_count": 14,
   "id": "65fb9bb3-311a-4d78-9773-a832eff54ac4",
   "metadata": {},
   "outputs": [],
   "source": [
    "def distance_coordinates(cor1,cor2):\n",
    "    return geopy.distance.geodesic(cor1,cor2).km"
   ]
  },
  {
   "cell_type": "code",
   "execution_count": 15,
   "id": "bead4f70-041a-4b2f-9482-72af9b7f9f62",
   "metadata": {},
   "outputs": [],
   "source": [
    "crime_types = {\n",
    "    'Property damage by fire or explosion': 'Prop_Damage',\n",
    "'Theft/Illegal Use of MV': 'Theft',\n",
    "'Serious Assault resulting in injury': 'Theft',\n",
    "'Obtain benefit by deception': 'Fraud',\n",
    "'Other property damage and environmental': 'Prop_Damage',\n",
    "'SCT - Non Residence': 'Prop_Damage',\n",
    "'Other theft': 'Theft',\n",
    "'Theft from shop': 'Theft',\n",
    "'Common Assault': 'Theft',\n",
    "'SCT - Residence': 'Prop_Damage',\n",
    "'Theft from motor vehicle': 'Theft',\n",
    "'Other fraud, deception and related offences': 'Fraud',\n",
    "'Aggravated robbery': 'Theft',\n",
    "'Serious Assault not resulting in injury': 'Theft',\n",
    "'Graffiti': 'Drop',\n",
    "'Other acts intended to cause injury': 'Other_offences',\n",
    "'Other unlawful entry with intent': 'Prop_Damage',\n",
    "'Assault police': 'Other_offences',\n",
    "'Threatening behaviour': 'Other_offences',\n",
    "'Receive or handle proceeds of crime': 'Theft',\n",
    "'Abduction, harassment and other offences': 'Other_offences',\n",
    "'Non-aggravated robbery': 'Theft',\n",
    "'Dangerous or negligent acts': 'Other_offences',\n",
    "'Blackmail and extortion': 'Theft',\n",
    "'Other homicide and related offences': 'Murder',\n",
    "'Murder': 'Murder'\n",
    "}"
   ]
  },
  {
   "cell_type": "markdown",
   "id": "fe2e7bd3-3c77-4872-af08-bf2d67410048",
   "metadata": {},
   "source": [
    "# Load datasets"
   ]
  },
  {
   "cell_type": "code",
   "execution_count": 16,
   "id": "466aced6-82e7-4a13-983a-82538f8df949",
   "metadata": {},
   "outputs": [],
   "source": [
    "path = \"Project Databases//\""
   ]
  },
  {
   "cell_type": "markdown",
   "id": "3b5bc6a4-174c-4e73-89c5-0e8a525361c2",
   "metadata": {},
   "source": [
    "## Crime data consolidation - (Only run once)"
   ]
  },
  {
   "cell_type": "code",
   "execution_count": 55,
   "id": "37dbafb0-a152-45ab-a15c-37947a628cbb",
   "metadata": {},
   "outputs": [
    {
     "name": "stdout",
     "output_type": "stream",
     "text": [
      "2010-11-data_sa_crime.csv\n",
      "2011-12-data_sa_crime.xlsx\n",
      "2012-13-data_sa_crime.csv\n",
      "2013-14-data_sa_crime.csv\n",
      "2014-15-data_sa_crime.csv\n",
      "2015-16-data_sa_crime.csv\n",
      "2016-17-data_sa_crime.csv\n",
      "2017-18-data_sa_crime.csv\n",
      "2018-19-data_sa_crime.csv\n",
      "2019-20-fullyr-data_sa_crime.csv\n",
      "2020-21_data_sa_crime.csv\n",
      "2021-22-data-sa-crime-q1-q4.csv\n",
      "2022-23_data_sa_crime.csv\n",
      "data-sa-crime-q1q3-2023-24.csv\n",
      "(1294803, 7)\n"
     ]
    }
   ],
   "source": [
    "\n",
    "# Load Databases from crime data\n",
    "files = os.listdir(path)\n",
    "\n",
    "crime_db = pd.DataFrame()\n",
    "for f in files:\n",
    "    if 'crime' in f:\n",
    "        print(f)\n",
    "        if f[-3:] == 'csv':\n",
    "            base_aux = pd.read_csv(path+f)\n",
    "        else:    \n",
    "            base_aux = pd.read_excel(path+f,engine = 'openpyxl')\n",
    "        crime_db = pd.concat([crime_db,base_aux],axis = 0)\n",
    "\n",
    "crime_db.reset_index(drop=True, inplace=True)\n",
    "\n",
    "crime_db['Reported Date'] = [format_date(x,'%d/%m/%Y') for x in crime_db['Reported Date']]\n",
    "crime_db['Postcode - Incident'] = [format_int(x) for x in crime_db['Postcode - Incident']]\n",
    "crime_db['Offence count'] = [format_int(x) for x in crime_db['Offence count']]\n",
    "\n",
    "crime_db.drop_duplicates(inplace=True)\n",
    "print(crime_db.shape)\n",
    "\n",
    "# Save as pickle format to consolidate the databases in one single dataset\n",
    "with open(path+'Crime_datasets.pkl', 'wb') as f:\n",
    "    pickle.dump(crime_db, f)\n",
    "    f.close()"
   ]
  },
  {
   "cell_type": "markdown",
   "id": "b2836610-47d0-4225-9bd1-baa08e9e2b8a",
   "metadata": {},
   "source": [
    "## For crime pickle dataset"
   ]
  },
  {
   "cell_type": "code",
   "execution_count": 17,
   "id": "ed08e0af-7480-4caf-b824-846f0e04cb6e",
   "metadata": {},
   "outputs": [
    {
     "name": "stdout",
     "output_type": "stream",
     "text": [
      "(1294803, 7)\n"
     ]
    }
   ],
   "source": [
    "with open(path+'Crime_datasets.pkl', 'rb') as f:\n",
    "    crime_databases_pkl = pickle.load(f)\n",
    "    print(crime_databases_pkl.shape)"
   ]
  },
  {
   "cell_type": "code",
   "execution_count": 20,
   "id": "d7b6ea07-b1bd-4b5b-9ad0-162536df30a3",
   "metadata": {},
   "outputs": [
    {
     "name": "stdout",
     "output_type": "stream",
     "text": [
      "Missings for Reported Date: 1\n",
      "Missings for Suburb - Incident: 3897\n",
      "Missings for Postcode - Incident: 16955\n",
      "Missings for Offence Level 1 Description: 1\n",
      "Missings for Offence Level 2 Description: 1\n",
      "Missings for Offence Level 3 Description: 1\n",
      "Missings for Offence count: 1\n"
     ]
    }
   ],
   "source": [
    "for col in crime_databases_pkl.columns:\n",
    "    print(f'Missings for {col}: {sum(crime_databases_pkl[col].isnull())}')"
   ]
  },
  {
   "cell_type": "code",
   "execution_count": 29,
   "id": "757616f8-e7a5-4da0-b0b7-57362d2937d4",
   "metadata": {},
   "outputs": [
    {
     "name": "stdout",
     "output_type": "stream",
     "text": [
      "Missings for Reported Date: 0\n",
      "Missings for Suburb - Incident: 93\n",
      "Missings for Postcode - Incident: 0\n",
      "Missings for Offence Level 1 Description: 0\n",
      "Missings for Offence Level 2 Description: 0\n",
      "Missings for Offence Level 3 Description: 0\n",
      "Missings for Offence count: 0\n"
     ]
    }
   ],
   "source": [
    "#Removing missing postcodes\n",
    "\n",
    "crime_databases_pkl_u = crime_databases_pkl.dropna(subset = ['Postcode - Incident'])\n",
    "\n",
    "for col in crime_databases_pkl_u.columns:\n",
    "    print(f'Missings for {col}: {sum(crime_databases_pkl_u[col].isnull())}')"
   ]
  },
  {
   "cell_type": "code",
   "execution_count": 22,
   "id": "39976818-dbf8-4dd1-8444-2f37feaa50f1",
   "metadata": {},
   "outputs": [
    {
     "name": "stdout",
     "output_type": "stream",
     "text": [
      "(1175108, 4)\n",
      "Missings for Reported Date: 0\n",
      "Missings for Postcode - Incident: 0\n",
      "Missings for Offence Level 3 Description: 0\n",
      "Missings for Offence count: 0\n"
     ]
    }
   ],
   "source": [
    "# Agregating all suburbs since the postal code is what matters to map state\n",
    "crime_databases_pkl_ug = crime_databases_pkl_u.groupby(['Reported Date', 'Postcode - Incident',\n",
    "       'Offence Level 3 Description'])['Offence count'].sum().reset_index()\n",
    "\n",
    "print(crime_databases_pkl_ug.shape)\n",
    "for col in crime_databases_pkl_ug.columns:\n",
    "    print(f'Missings for {col}: {sum(crime_databases_pkl_ug[col].isnull())}')"
   ]
  },
  {
   "cell_type": "markdown",
   "id": "365b0282-22be-4350-87f7-c447b7478bf1",
   "metadata": {},
   "source": [
    "## Load Australian PostCodes"
   ]
  },
  {
   "cell_type": "code",
   "execution_count": 23,
   "id": "460850dc-a2dc-4e06-ba12-bec44366d018",
   "metadata": {},
   "outputs": [
    {
     "data": {
      "text/plain": [
       "(3175, 4)"
      ]
     },
     "execution_count": 23,
     "metadata": {},
     "output_type": "execute_result"
    }
   ],
   "source": [
    "f = 'australian_postcodes.csv'\n",
    "postal_codes = pd.read_csv(path+f)\n",
    "\n",
    "var = ['postcode','state','long','lat']\n",
    "postal_codes = postal_codes[var]\n",
    "postal_codes.drop_duplicates('postcode',inplace=True) #keep the first state for each postal code to guarantee a unique postal code for each state\n",
    "postal_codes.dropna(inplace=True)\n",
    "postal_codes.shape"
   ]
  },
  {
   "cell_type": "code",
   "execution_count": 24,
   "id": "284e5372-ac01-4fec-96bc-17ff10be651a",
   "metadata": {},
   "outputs": [
    {
     "data": {
      "text/plain": [
       "(1175108, 7)"
      ]
     },
     "execution_count": 24,
     "metadata": {},
     "output_type": "execute_result"
    }
   ],
   "source": [
    "# Merge crime datasets with postcodes to identify state\n",
    "crime_databases_pc = crime_databases_pkl_ug.merge(postal_codes,how='left',\n",
    "                                                  left_on='Postcode - Incident', right_on='postcode').drop(columns = ['postcode'])\n",
    "crime_databases_pc.shape"
   ]
  },
  {
   "cell_type": "code",
   "execution_count": 25,
   "id": "5d5c96b3-8cb9-4ccf-bc40-17b68deef5b8",
   "metadata": {},
   "outputs": [
    {
     "data": {
      "text/plain": [
       "array([5960., 1011., 5119., 8506., 5768., 5790., 5542.])"
      ]
     },
     "execution_count": 25,
     "metadata": {},
     "output_type": "execute_result"
    }
   ],
   "source": [
    "crime_databases_pc[crime_databases_pc['state'].isnull()]['Postcode - Incident'].unique()"
   ]
  },
  {
   "cell_type": "code",
   "execution_count": 26,
   "id": "0b6fda83-d4fa-44f4-814b-a692fa14812a",
   "metadata": {},
   "outputs": [
    {
     "data": {
      "text/plain": [
       "(1175009, 7)"
      ]
     },
     "execution_count": 26,
     "metadata": {},
     "output_type": "execute_result"
    }
   ],
   "source": [
    "#According to the Australian post page, these postcodes do not exist. Hence, they will be excluded from the analysis\n",
    "crime_databases_pc.dropna(subset = ['state'],inplace=True)\n",
    "crime_databases_pc.shape"
   ]
  },
  {
   "cell_type": "code",
   "execution_count": 28,
   "id": "c19b9b15-631e-41b1-a77c-029fc74717e1",
   "metadata": {},
   "outputs": [
    {
     "name": "stdout",
     "output_type": "stream",
     "text": [
      "(1145307, 7)\n"
     ]
    }
   ],
   "source": [
    "#Remove Graffiti (Drop) and classify remaining as fraud, property_damage, theft, murder and other offenses against the person\n",
    "\n",
    "crime_databases_pc['Type_crime'] = [ crime_types[x] for x in crime_databases_pc['Offence Level 3 Description']]\n",
    "crime_databases_pc_f = crime_databases_pc[ ~(crime_databases_pc['Type_crime']=='Drop'\n",
    "                                            )].reset_index(drop=True).drop(columns = ['Offence Level 3 Description'])\n",
    "print(crime_databases_pc_f.shape)\n",
    "#crime_databases_pc_f.head(5)"
   ]
  },
  {
   "cell_type": "code",
   "execution_count": 27,
   "id": "47cd83dc-add3-4fe1-a6a0-de4d0b78c509",
   "metadata": {},
   "outputs": [
    {
     "name": "stdout",
     "output_type": "stream",
     "text": [
      "(788130, 7)\n"
     ]
    }
   ],
   "source": [
    "#Group data by type of crime to have unique records with similar classification in type of crime\n",
    "crime_databases_pc_f = crime_databases_pc_f.groupby(['Reported Date', 'Postcode - Incident',\n",
    "       'state','lat','long','Type_crime'])['Offence count'].sum().reset_index()\n",
    "\n",
    "print(crime_databases_pc_f.shape)"
   ]
  },
  {
   "cell_type": "code",
   "execution_count": 28,
   "id": "53277d75-53c4-4428-9a5c-94e6540eb2ae",
   "metadata": {},
   "outputs": [
    {
     "name": "stdout",
     "output_type": "stream",
     "text": [
      "(783844, 7)\n"
     ]
    }
   ],
   "source": [
    "#filter data for SA region\n",
    "crime_db_SA = crime_databases_pc_f[crime_databases_pc_f['state']=='SA'].reset_index(drop=True)\n",
    "crime_db_SA['Postcode - Incident'] = crime_db_SA['Postcode - Incident'].astype(int)\n",
    "print(crime_db_SA.shape)\n",
    "#crime_db_SA.head(2)"
   ]
  },
  {
   "cell_type": "code",
   "execution_count": 65,
   "id": "d1e41e8e-ebed-4029-b360-57bdef777109",
   "metadata": {},
   "outputs": [
    {
     "data": {
      "application/vnd.plotly.v1+json": {
       "config": {
        "plotlyServerURL": "https://plot.ly"
       },
       "data": [
        {
         "hovertemplate": "<b>%{hovertext}</b><br><br>Log crimes=%{marker.color}<br>lat=%{lat}<br>long=%{lon}<extra></extra>",
         "hovertext": [
          "Postcode: 5000",
          "Postcode: 5001",
          "Postcode: 5005",
          "Postcode: 5006",
          "Postcode: 5007",
          "Postcode: 5008",
          "Postcode: 5009",
          "Postcode: 5010",
          "Postcode: 5011",
          "Postcode: 5012",
          "Postcode: 5013",
          "Postcode: 5014",
          "Postcode: 5015",
          "Postcode: 5016",
          "Postcode: 5017",
          "Postcode: 5018",
          "Postcode: 5019",
          "Postcode: 5020",
          "Postcode: 5021",
          "Postcode: 5022",
          "Postcode: 5023",
          "Postcode: 5024",
          "Postcode: 5025",
          "Postcode: 5031",
          "Postcode: 5032",
          "Postcode: 5033",
          "Postcode: 5034",
          "Postcode: 5035",
          "Postcode: 5037",
          "Postcode: 5038",
          "Postcode: 5039",
          "Postcode: 5040",
          "Postcode: 5041",
          "Postcode: 5042",
          "Postcode: 5043",
          "Postcode: 5044",
          "Postcode: 5045",
          "Postcode: 5046",
          "Postcode: 5047",
          "Postcode: 5048",
          "Postcode: 5049",
          "Postcode: 5050",
          "Postcode: 5051",
          "Postcode: 5052",
          "Postcode: 5061",
          "Postcode: 5062",
          "Postcode: 5063",
          "Postcode: 5064",
          "Postcode: 5065",
          "Postcode: 5066",
          "Postcode: 5067",
          "Postcode: 5068",
          "Postcode: 5069",
          "Postcode: 5070",
          "Postcode: 5072",
          "Postcode: 5073",
          "Postcode: 5074",
          "Postcode: 5075",
          "Postcode: 5076",
          "Postcode: 5081",
          "Postcode: 5082",
          "Postcode: 5083",
          "Postcode: 5084",
          "Postcode: 5085",
          "Postcode: 5086",
          "Postcode: 5087",
          "Postcode: 5088",
          "Postcode: 5089",
          "Postcode: 5090",
          "Postcode: 5091",
          "Postcode: 5092",
          "Postcode: 5093",
          "Postcode: 5094",
          "Postcode: 5095",
          "Postcode: 5096",
          "Postcode: 5097",
          "Postcode: 5098",
          "Postcode: 5106",
          "Postcode: 5107",
          "Postcode: 5108",
          "Postcode: 5109",
          "Postcode: 5110",
          "Postcode: 5111",
          "Postcode: 5112",
          "Postcode: 5113",
          "Postcode: 5114",
          "Postcode: 5115",
          "Postcode: 5116",
          "Postcode: 5117",
          "Postcode: 5118",
          "Postcode: 5120",
          "Postcode: 5121",
          "Postcode: 5125",
          "Postcode: 5126",
          "Postcode: 5127",
          "Postcode: 5131",
          "Postcode: 5132",
          "Postcode: 5133",
          "Postcode: 5134",
          "Postcode: 5136",
          "Postcode: 5137",
          "Postcode: 5138",
          "Postcode: 5139",
          "Postcode: 5140",
          "Postcode: 5141",
          "Postcode: 5142",
          "Postcode: 5144",
          "Postcode: 5150",
          "Postcode: 5151",
          "Postcode: 5152",
          "Postcode: 5153",
          "Postcode: 5154",
          "Postcode: 5155",
          "Postcode: 5156",
          "Postcode: 5157",
          "Postcode: 5158",
          "Postcode: 5159",
          "Postcode: 5160",
          "Postcode: 5161",
          "Postcode: 5162",
          "Postcode: 5163",
          "Postcode: 5164",
          "Postcode: 5165",
          "Postcode: 5166",
          "Postcode: 5167",
          "Postcode: 5168",
          "Postcode: 5169",
          "Postcode: 5170",
          "Postcode: 5171",
          "Postcode: 5172",
          "Postcode: 5173",
          "Postcode: 5174",
          "Postcode: 5201",
          "Postcode: 5202",
          "Postcode: 5203",
          "Postcode: 5204",
          "Postcode: 5210",
          "Postcode: 5211",
          "Postcode: 5212",
          "Postcode: 5213",
          "Postcode: 5214",
          "Postcode: 5220",
          "Postcode: 5221",
          "Postcode: 5222",
          "Postcode: 5223",
          "Postcode: 5231",
          "Postcode: 5232",
          "Postcode: 5233",
          "Postcode: 5234",
          "Postcode: 5235",
          "Postcode: 5236",
          "Postcode: 5237",
          "Postcode: 5238",
          "Postcode: 5240",
          "Postcode: 5241",
          "Postcode: 5242",
          "Postcode: 5243",
          "Postcode: 5244",
          "Postcode: 5245",
          "Postcode: 5250",
          "Postcode: 5251",
          "Postcode: 5252",
          "Postcode: 5253",
          "Postcode: 5254",
          "Postcode: 5255",
          "Postcode: 5256",
          "Postcode: 5259",
          "Postcode: 5260",
          "Postcode: 5261",
          "Postcode: 5262",
          "Postcode: 5263",
          "Postcode: 5264",
          "Postcode: 5265",
          "Postcode: 5266",
          "Postcode: 5267",
          "Postcode: 5268",
          "Postcode: 5269",
          "Postcode: 5270",
          "Postcode: 5271",
          "Postcode: 5272",
          "Postcode: 5273",
          "Postcode: 5275",
          "Postcode: 5276",
          "Postcode: 5277",
          "Postcode: 5278",
          "Postcode: 5279",
          "Postcode: 5280",
          "Postcode: 5290",
          "Postcode: 5291",
          "Postcode: 5301",
          "Postcode: 5302",
          "Postcode: 5303",
          "Postcode: 5304",
          "Postcode: 5306",
          "Postcode: 5307",
          "Postcode: 5308",
          "Postcode: 5309",
          "Postcode: 5310",
          "Postcode: 5311",
          "Postcode: 5320",
          "Postcode: 5321",
          "Postcode: 5322",
          "Postcode: 5330",
          "Postcode: 5331",
          "Postcode: 5332",
          "Postcode: 5333",
          "Postcode: 5340",
          "Postcode: 5341",
          "Postcode: 5342",
          "Postcode: 5343",
          "Postcode: 5344",
          "Postcode: 5345",
          "Postcode: 5346",
          "Postcode: 5350",
          "Postcode: 5351",
          "Postcode: 5352",
          "Postcode: 5353",
          "Postcode: 5354",
          "Postcode: 5355",
          "Postcode: 5356",
          "Postcode: 5357",
          "Postcode: 5360",
          "Postcode: 5371",
          "Postcode: 5372",
          "Postcode: 5373",
          "Postcode: 5374",
          "Postcode: 5381",
          "Postcode: 5400",
          "Postcode: 5401",
          "Postcode: 5410",
          "Postcode: 5411",
          "Postcode: 5412",
          "Postcode: 5413",
          "Postcode: 5414",
          "Postcode: 5415",
          "Postcode: 5416",
          "Postcode: 5417",
          "Postcode: 5418",
          "Postcode: 5419",
          "Postcode: 5420",
          "Postcode: 5421",
          "Postcode: 5422",
          "Postcode: 5431",
          "Postcode: 5432",
          "Postcode: 5433",
          "Postcode: 5434",
          "Postcode: 5440",
          "Postcode: 5451",
          "Postcode: 5452",
          "Postcode: 5453",
          "Postcode: 5454",
          "Postcode: 5455",
          "Postcode: 5460",
          "Postcode: 5461",
          "Postcode: 5462",
          "Postcode: 5464",
          "Postcode: 5470",
          "Postcode: 5471",
          "Postcode: 5472",
          "Postcode: 5473",
          "Postcode: 5480",
          "Postcode: 5481",
          "Postcode: 5482",
          "Postcode: 5483",
          "Postcode: 5485",
          "Postcode: 5490",
          "Postcode: 5491",
          "Postcode: 5493",
          "Postcode: 5495",
          "Postcode: 5501",
          "Postcode: 5502",
          "Postcode: 5510",
          "Postcode: 5520",
          "Postcode: 5521",
          "Postcode: 5522",
          "Postcode: 5523",
          "Postcode: 5540",
          "Postcode: 5550",
          "Postcode: 5552",
          "Postcode: 5554",
          "Postcode: 5555",
          "Postcode: 5556",
          "Postcode: 5558",
          "Postcode: 5560",
          "Postcode: 5570",
          "Postcode: 5571",
          "Postcode: 5572",
          "Postcode: 5573",
          "Postcode: 5575",
          "Postcode: 5576",
          "Postcode: 5577",
          "Postcode: 5580",
          "Postcode: 5581",
          "Postcode: 5582",
          "Postcode: 5583",
          "Postcode: 5600",
          "Postcode: 5601",
          "Postcode: 5602",
          "Postcode: 5603",
          "Postcode: 5604",
          "Postcode: 5605",
          "Postcode: 5606",
          "Postcode: 5607",
          "Postcode: 5608",
          "Postcode: 5609",
          "Postcode: 5611",
          "Postcode: 5630",
          "Postcode: 5631",
          "Postcode: 5632",
          "Postcode: 5633",
          "Postcode: 5640",
          "Postcode: 5641",
          "Postcode: 5642",
          "Postcode: 5650",
          "Postcode: 5651",
          "Postcode: 5652",
          "Postcode: 5653",
          "Postcode: 5654",
          "Postcode: 5655",
          "Postcode: 5660",
          "Postcode: 5661",
          "Postcode: 5670",
          "Postcode: 5671",
          "Postcode: 5680",
          "Postcode: 5690",
          "Postcode: 5700",
          "Postcode: 5701",
          "Postcode: 5710",
          "Postcode: 5713",
          "Postcode: 5715",
          "Postcode: 5717",
          "Postcode: 5719",
          "Postcode: 5720",
          "Postcode: 5722",
          "Postcode: 5723",
          "Postcode: 5724",
          "Postcode: 5725",
          "Postcode: 5730",
          "Postcode: 5731",
          "Postcode: 5732",
          "Postcode: 5733",
          "Postcode: 5734",
          "Postcode: 5950"
         ],
         "lat": [
          -34.92849902,
          -34.92849902,
          -34.919398,
          -34.911523,
          -34.903259,
          -34.887511,
          -34.896906,
          -34.857497,
          -34.87089128,
          -34.86303,
          -34.841984,
          -34.86475,
          -34.808422,
          -34.824516,
          -34.806494,
          -34.779057,
          -34.847707,
          -34.867318,
          -34.86628,
          -34.905461,
          -34.90073,
          -34.948827,
          -34.912384,
          -34.936926,
          -34.935734,
          -34.938858,
          -34.956227,
          -34.952075,
          -34.957399,
          -34.968051,
          -34.976263,
          -34.963083,
          -35.00298,
          -35.007341,
          -35.005492,
          -35.001213,
          -34.977122,
          -35.003794,
          -35.030702,
          -35.017416,
          -35.045389,
          -35.026307,
          -35.033769,
          -35.003888,
          -34.957195,
          -35.004063,
          -34.954325,
          -34.963195,
          -34.940362,
          -34.940962,
          -34.919985,
          -34.922605,
          -34.907597,
          -34.900496,
          -34.912078,
          -34.89528,
          -34.884233,
          -34.861332,
          -34.873844,
          -34.891417,
          -34.886018,
          -34.879357,
          -34.864409,
          -34.856239,
          -34.854247,
          -34.876988,
          -34.847141,
          -34.851049,
          -34.843346,
          -34.822615,
          -34.821319,
          -34.83977,
          -34.802736,
          -34.820685,
          -34.798549,
          -34.819614,
          -34.829603,
          -34.793169,
          -34.784447,
          -34.761553,
          -34.771432,
          -34.72213,
          -34.709347,
          -34.726229,
          -34.702506,
          -34.718681,
          -34.669486,
          -34.622783,
          -34.641267,
          -34.58378,
          -34.668553,
          -34.68857809,
          -34.773234,
          -34.793414,
          -34.796682,
          -34.795292,
          -34.857324,
          -34.810928,
          -34.891863,
          -34.921123,
          -34.945777,
          -34.934914,
          -34.924843,
          -34.939245,
          -34.957325,
          -34.960813,
          -34.968504,
          -35.010886,
          -34.974283,
          -34.998401,
          -35.091002,
          -35.023252,
          -35.020077,
          -35.030185,
          -35.143492,
          -35.084001,
          -35.061705,
          -35.110123,
          -35.096383,
          -35.112119,
          -35.147923,
          -35.124824,
          -35.137389,
          -35.115305,
          -35.166866,
          -35.149737,
          -35.194211,
          -35.237265,
          -35.196481,
          -35.28775,
          -35.290568,
          -35.330569,
          -35.206107,
          -35.386025,
          -35.450839,
          -35.572164,
          -35.387709,
          -35.566153,
          -35.520797,
          -35.500615,
          -35.491206,
          -35.744959,
          -35.793776,
          -35.803421,
          -35.811358,
          -34.81588636,
          -34.855449,
          -34.839937,
          -34.805141,
          -34.705292,
          -34.829433,
          -34.823114,
          -34.867709,
          -34.906905,
          -34.897167,
          -34.998416,
          -34.96322,
          -34.938664,
          -35.020412,
          -35.0417052,
          -35.13772392,
          -35.035729,
          -35.109083,
          -35.097045,
          -35.248539,
          -35.492114,
          -35.521405,
          -35.233606,
          -35.59601,
          -36.780524,
          -37.307042,
          -35.669947,
          -35.718823,
          -35.902842,
          -36.093534,
          -36.189376,
          -36.404918,
          -36.404918,
          -36.792946,
          -37.162862,
          -36.942586,
          -36.61323,
          -37.214147,
          -37.435507,
          -37.527142,
          -37.574691,
          -37.449179,
          -37.839841,
          -37.927953,
          -35.449887,
          -35.579513,
          -35.191375,
          -35.05261065,
          -35.096798,
          -35.037558,
          -34.627126,
          -34.850669,
          -34.794834,
          -34.721845,
          -34.01813129,
          -34.064708,
          -34.177881,
          -33.94707,
          -34.2200272,
          -34.251101,
          -34.35703813,
          -34.176844,
          -33.739084,
          -34.240296,
          -34.321288,
          -34.285345,
          -34.187027,
          -34.250013,
          -34.550897,
          -34.638218,
          -34.54472249,
          -34.577328,
          -34.538013,
          -34.443966,
          -34.39697297,
          -34.343393,
          -34.446813,
          -34.41538531,
          -34.435921,
          -34.303007,
          -34.152477,
          -33.965473,
          -34.42150567,
          -34.29774,
          -34.366816,
          -34.256363,
          -34.18289,
          -34.080278,
          -33.949431,
          -33.942677,
          -33.804669,
          -33.66497478,
          -33.357329,
          -33.397741,
          -33.252592,
          -33.13467,
          -32.97338,
          -32.212021,
          -31.95109636,
          -32.180856,
          -31.568218,
          -32.21594669,
          -34.092233,
          -33.969454,
          -33.802932,
          -33.531714,
          -33.673948,
          -34.312427,
          -34.095314,
          -33.896378,
          -33.676424,
          -33.575379,
          -33.47611,
          -33.387234,
          -33.257131,
          -33.125751,
          -33.012446,
          -32.842201,
          -32.8863,
          -32.546383,
          -33.169137,
          -33.194457,
          -33.015031,
          -32.88219,
          -34.595073,
          -34.49618603,
          -33.9491,
          -33.769107,
          -33.567546,
          -33.578188,
          -33.187701,
          -33.205773,
          -34.093038,
          -34.061253,
          -33.928029,
          -33.656811,
          -33.950853,
          -34.105205,
          -33.895055,
          -34.272303,
          -34.51494,
          -34.237139,
          -34.514149,
          -34.823141,
          -35.050773,
          -34.91058608,
          -34.658726,
          -34.789625,
          -34.94231,
          -35.117696,
          -33.036339,
          -32.91326147,
          -33.530464,
          -33.831212,
          -34.00333,
          -34.2583,
          -35.373243,
          -35.156446,
          -33.05754209,
          -33.14979064,
          -33.1001,
          -34.420483,
          -34.285785,
          -34.129198,
          -33.448521,
          -33.606021,
          -33.100172,
          -33.558726,
          -33.152294,
          -33.169608,
          -33.091309,
          -32.967987,
          -32.833204,
          -32.58529275,
          -32.5914954,
          -32.34533569,
          -33.409359,
          -33.21045,
          -32.672797,
          -32.282716,
          -32.69008918,
          -32.5778,
          -27.467217,
          -32.3424,
          -32.3299,
          -32.2263,
          -30.59001247,
          -31.11831978,
          -30.779803,
          -27.79517514,
          -27.180602,
          -30.430931,
          -31.12462639,
          -28.87101485,
          -30.65815918,
          -26.32008739,
          -26.09784494,
          -34.945146
         ],
         "legendgroup": "",
         "lon": [
          138.600746,
          138.600746,
          138.60351,
          138.584497,
          138.56787,
          138.559407,
          138.542493,
          138.558318,
          138.5353265,
          138.541637,
          138.553453,
          138.509247,
          138.531567,
          138.493796,
          138.498128,
          138.49958,
          138.477054,
          138.481639,
          138.492908,
          138.49264,
          138.51199,
          138.506052,
          138.529573,
          138.570873,
          138.544358,
          138.558451,
          138.58811,
          138.575187,
          138.545826,
          138.548367,
          138.570739,
          138.527412,
          138.594176,
          138.575023,
          138.553853,
          138.516314,
          138.516973,
          138.535434,
          138.546572,
          138.520459,
          138.52272,
          138.601272,
          138.620405,
          138.618684,
          138.60648,
          138.602387,
          138.621477,
          138.649183,
          138.633974,
          138.66029,
          138.630575,
          138.654999,
          138.623527,
          138.642172,
          138.696113,
          138.683151,
          138.669275,
          138.675254,
          138.703683,
          138.617673,
          138.587083,
          138.609927,
          138.581605,
          138.612959,
          138.64344,
          138.637707,
          138.673783,
          138.724487,
          138.704628,
          138.735572,
          138.680226,
          138.657974,
          138.581513,
          138.6199,
          138.644685,
          138.707261,
          138.638946,
          138.629463,
          138.609874,
          138.61884,
          138.663871,
          138.565037,
          138.62532,
          138.666615,
          138.674449,
          138.754254,
          138.681702,
          138.724059,
          138.636537,
          138.705675,
          138.507899,
          138.6507658,
          138.738733,
          138.724953,
          138.674657,
          138.758111,
          138.75703,
          138.776976,
          138.760552,
          138.735107,
          138.735962,
          138.768586,
          138.788705,
          138.710203,
          138.722419,
          138.740223,
          138.769031,
          138.654942,
          138.723897,
          138.703957,
          138.757945,
          138.73592,
          138.756728,
          138.656697,
          138.633118,
          138.519781,
          138.603897,
          138.50172,
          138.515652,
          138.565224,
          138.552209,
          138.500365,
          138.475092,
          138.478636,
          138.481211,
          138.49632,
          138.477958,
          138.478943,
          138.553437,
          138.555169,
          138.470002,
          138.47117,
          138.727179,
          138.505922,
          138.388132,
          138.324567,
          138.655684,
          138.627975,
          138.668775,
          138.710195,
          138.834806,
          137.236746,
          137.72022,
          137.924659,
          137.541715,
          138.839512,
          138.815964,
          138.882403,
          138.966075,
          139.084565,
          139.051698,
          139.191868,
          139.497207,
          138.815277,
          138.864359,
          138.819125,
          138.828161,
          138.946384,
          138.791651,
          138.8860811,
          138.8734306,
          138.947189,
          139.273641,
          139.475946,
          138.975861,
          139.0336,
          139.236567,
          139.511686,
          139.935161,
          140.904543,
          140.838441,
          139.275737,
          139.743422,
          139.815539,
          140.348707,
          140.788199,
          140.601672,
          140.601672,
          140.496496,
          140.321798,
          140.246064,
          139.937126,
          139.917377,
          140.852283,
          140.616636,
          140.462487,
          140.260783,
          140.764545,
          140.719634,
          140.030554,
          140.32532,
          140.685318,
          140.7825075,
          139.690888,
          140.242147,
          140.050653,
          140.114394,
          140.367313,
          140.811093,
          139.4416527,
          139.786627,
          139.955939,
          139.975421,
          140.3170402,
          140.28104,
          140.6202534,
          140.782026,
          140.753178,
          140.551874,
          140.556181,
          140.51443,
          140.454506,
          140.397201,
          138.83423,
          138.897802,
          138.9856268,
          139.326979,
          139.652642,
          139.007886,
          139.3720816,
          139.525937,
          138.897955,
          138.7560699,
          138.798551,
          138.930335,
          139.12488,
          139.140266,
          138.7042845,
          138.659866,
          138.768325,
          138.772345,
          138.775266,
          138.883459,
          138.773663,
          138.722876,
          138.796125,
          139.8482859,
          139.143828,
          138.893337,
          138.961232,
          138.985832,
          138.771209,
          138.883978,
          139.1945693,
          138.1056,
          138.70506,
          140.3153142,
          138.620883,
          138.652781,
          138.582681,
          138.604466,
          138.633474,
          138.517968,
          138.444457,
          138.43015,
          138.39411,
          138.482681,
          138.424322,
          138.410287,
          138.351282,
          138.319834,
          138.239719,
          138.357347,
          138.12371,
          138.207041,
          138.482155,
          138.643794,
          138.746595,
          137.946255,
          138.547998,
          138.6228575,
          138.188988,
          138.12018,
          138.210043,
          138.003325,
          138.2130413,
          138.080191,
          138.243785,
          137.862942,
          137.756193,
          138.191161,
          137.610828,
          137.598449,
          138.031867,
          137.956861,
          137.811541,
          137.812526,
          137.508603,
          137.544605,
          137.56046,
          137.1757976,
          137.704719,
          137.748829,
          137.734592,
          137.825935,
          137.277293,
          137.7869937,
          136.860876,
          136.499961,
          136.301759,
          136.154091,
          136.859338,
          136.456454,
          137.5325164,
          137.4398767,
          136.9795,
          135.61222,
          135.66453,
          135.635831,
          135.581933,
          136.437661,
          136.318517,
          136.103172,
          135.740152,
          135.528428,
          135.249834,
          135.229267,
          135.02092,
          135.0485689,
          134.5219878,
          134.7410492,
          135.02078,
          134.673762,
          134.37909,
          133.582274,
          137.7541107,
          137.961,
          134.430044,
          137.8719,
          137.3609,
          135.1706,
          135.5033983,
          136.9754357,
          137.197175,
          135.5333868,
          133.420868,
          136.746735,
          138.5935035,
          140.7244103,
          138.8558557,
          138.9717811,
          134.7481913,
          138.530183
         ],
         "marker": {
          "color": [
           11.388857721846707,
           1.0986122886681098,
           0.6931471805599453,
           9.089640586738398,
           9.54781210893048,
           9.667891793282678,
           9.100302266767246,
           8.908694592507015,
           9.631481959469355,
           9.453678630575912,
           9.672878705110646,
           9.423110302862831,
           9.505171826581176,
           8.961622569542543,
           8.813735892300215,
           8.062747901086354,
           9.269363712425644,
           7.473637108496206,
           9.019785010255125,
           9.229162126216771,
           9.765489054378838,
           8.997518369733845,
           8.533853632309345,
           9.581559041355757,
           8.996404301412886,
           8.980423936374544,
           8.92172453036431,
           8.524168805152662,
           8.97259066827261,
           9.506362568702965,
           9.275847174178303,
           7.226209010100671,
           8.737773460327283,
           9.26926943950547,
           9.831561812964539,
           8.693161274238017,
           9.672689782285058,
           9.813781639451635,
           8.872767529910936,
           9.213036733523925,
           8.568646473005153,
           7.346010209913293,
           8.302761580704049,
           7.480428306074208,
           8.734399150063695,
           8.853808274977197,
           8.898228985601227,
           8.499640032168648,
           8.60061479955531,
           8.101071503119543,
           9.233079858945672,
           8.559102594493448,
           8.771835409789817,
           9.068085324395312,
           8.344029572407049,
           8.743053050224676,
           9.049349685884057,
           8.552946361122055,
           7.7279755421055585,
           8.956737613177264,
           9.62238379544447,
           8.969796305981806,
           9.88644311792687,
           9.837775009170747,
           9.649369196922487,
           9.062188330952324,
           8.40827078419205,
           7.580189417944541,
           8.098034756176071,
           8.104703468371108,
           9.769155839740836,
           8.669914278433902,
           8.935640333747571,
           9.933386102881991,
           9.424967763522053,
           8.765146421639022,
           9.227295812625597,
           7.987524479848767,
           9.600827196903634,
           10.876139714076032,
           9.639587108749145,
           9.337853692275143,
           6.240275845170769,
           10.812975195790544,
           10.469426166355031,
           10.499820923406714,
           9.353921100453707,
           8.939843124278502,
           8.049427057110695,
           9.588228712314113,
           7.7226775164680035,
           7.473637108496206,
           9.140239744296693,
           8.183118079394745,
           7.890582534656536,
           5.641907070938114,
           4.867534450455582,
           4.709530201312334,
           4.584967478670572,
           4.51085950651685,
           4.584967478670572,
           4.6913478822291435,
           3.7376696182833684,
           4.30406509320417,
           4.6913478822291435,
           4.727387818712341,
           4.174387269895637,
           4.394449154672439,
           4.189654742026425,
           7.647786045440933,
           7.175489713624222,
           6.61338421837956,
           6.501289670540389,
           5.19295685089021,
           6.61338421837956,
           9.188605879830176,
           9.209840246934501,
           7.87777633327726,
           8.98682175033189,
           10.168425425507316,
           9.48440514846878,
           9.100190628475195,
           9.112286431500795,
           7.425357887027151,
           8.325306029752582,
           9.642317574624458,
           9.464905067965136,
           6.306275286948016,
           7.813187267521416,
           7.333676395657684,
           9.082961442646353,
           7.170888478512505,
           6.335054251498059,
           6.152732694704104,
           6.336825731146441,
           7.340186835320115,
           6.517671272912275,
           8.905851181208021,
           6.925595197110468,
           6.616065185132817,
           8.453827315794417,
           4.61512051684126,
           4.68213122712422,
           5.62040086571715,
           7.313886831633462,
           5.8888779583328805,
           5.049856007249537,
           5.932245187448011,
           6.293419278846481,
           6.461468176353717,
           4.867534450455582,
           4.912654885736052,
           7.77485576666552,
           4.584967478670572,
           6.45833828334479,
           5.993961427306569,
           5.429345628954441,
           6.863803391452954,
           6.946975992135418,
           6.904750769961838,
           9.09301972939964,
           7.247792581767846,
           10.02857716337495,
           6.962243464266207,
           8.093156697722637,
           6.424869023905388,
           5.998936561946683,
           7.575071699507561,
           4.852030263919617,
           4.6443908991413725,
           3.7612001156935624,
           6.669498089857879,
           5.673323267171493,
           5.4680601411351315,
           6.80128303447162,
           7.445417556701687,
           4.653960350157523,
           4.787491742782046,
           8.079308192051961,
           5.552959584921617,
           2.5649493574615367,
           6.761572768804055,
           6.556778356158042,
           7.066466970136958,
           5.209486152841421,
           5.3981627015177525,
           8.19891444498699,
           10.012297113393403,
           7.822845290279774,
           5.198497031265826,
           5.834810737062605,
           4.442651256490317,
           5.840641657373398,
           3.6635616461296463,
           5.303304908059076,
           3.7376696182833684,
           4.5217885770490405,
           3.4657359027997265,
           4.948759890378168,
           6.352629396319567,
           5.318119993844216,
           6.030685260261263,
           7.675081857716334,
           4.948759890378168,
           5.159055299214529,
           7.974188669286011,
           6.18826412308259,
           8.723231274827508,
           6.1092475827643655,
           8.675392806089782,
           6.236369590203704,
           7.725771441587952,
           5.0106352940962555,
           5.081404364984463,
           7.397561535524052,
           7.487733761436444,
           7.1808311990445555,
           5.476463551931511,
           8.175829008714597,
           5.916202062607435,
           6.161207321695077,
           5.442417710521793,
           6.293419278846481,
           6.447305862541213,
           7.380879035564116,
           6.444131256700441,
           5.2574953720277815,
           5.5053315359323625,
           5.631211781821365,
           4.700480365792417,
           4.882801922586371,
           5.955837369464831,
           5.921578419643816,
           3.912023005428146,
           3.6375861597263857,
           3.8501476017100584,
           6.608000625296087,
           4.343805421853684,
           4.727387818712341,
           3.5263605246161616,
           4.990432586778736,
           7.20414929203594,
           5.111987788356544,
           2.995732273553991,
           6.386879319362645,
           5.4680601411351315,
           5.049856007249537,
           5.159055299214529,
           4.007333185232471,
           7.457609289715606,
           4.90527477843843,
           2.70805020110221,
           5.497168225293202,
           6.99117688712121,
           4.844187086458591,
           5.0106352940962555,
           3.9318256327243257,
           3.4011973816621555,
           4.127134385045092,
           5.4638318050256105,
           5.298317366548036,
           4.61512051684126,
           4.3694478524670215,
           4.406719247264253,
           5.087596335232384,
           3.7376696182833684,
           6.1070228877422545,
           3.7376696182833684,
           5.19295685089021,
           8.268988209506656,
           6.5638555265321274,
           4.564348191467836,
           5.978885764901122,
           4.5217885770490405,
           6.267200548541362,
           6.311734809152915,
           9.562334377396374,
           6.917705609835305,
           5.356586274672012,
           8.086410275323782,
           5.093750200806762,
           8.023552392404348,
           7.788211557847076,
           5.327876168789581,
           5.407171771460119,
           6.498282149476434,
           4.23410650459726,
           7.214504414151143,
           6.295266001439646,
           5.41610040220442,
           5.14166355650266,
           4.189654742026425,
           5.187385805840755,
           5.480638923341991,
           5.7745515455444085,
           8.711113884053544,
           5.707110264748875,
           6.180016653652572,
           4.418840607796598,
           4.343805421853684,
           5.860786223465865,
           9.867342105899775,
           7.1049654482698426,
           10.086225689215299,
           6.703188113240863,
           4.9344739331306915,
           3.332204510175204,
           5.332718793265369,
           3.5553480614894135,
           4.248495242049359,
           5.176149732573829,
           5.442417710521793,
           3.5263605246161616,
           3.2188758248682006,
           3.4965075614664802,
           5.117993812416755,
           2.0794415416798357,
           4.007333185232471,
           3.4965075614664802,
           2.1972245773362196,
           3.8066624897703196,
           5.017279836814924,
           4.007333185232471,
           6.452048954437226,
           9.161045080251306,
           10.29620508782179,
           3.4011973816621555,
           7.0630481633881725,
           2.9444389791664403,
           2.4849066497880004,
           2.302585092994046,
           4.882801922586371,
           5.170483995038151,
           5.652489180268651,
           8.757469141470748,
           6.403574197934815,
           7.6093665379542115,
           3.6109179126442243,
           5.805134968916488,
           5.564520407322694,
           4.499809670330265,
           5.717027701406222,
           7.664346632098617
          ],
          "coloraxis": "coloraxis",
          "opacity": 0.7,
          "size": [
           11.388857721846707,
           1.0986122886681098,
           0.6931471805599453,
           9.089640586738398,
           9.54781210893048,
           9.667891793282678,
           9.100302266767246,
           8.908694592507015,
           9.631481959469355,
           9.453678630575912,
           9.672878705110646,
           9.423110302862831,
           9.505171826581176,
           8.961622569542543,
           8.813735892300215,
           8.062747901086354,
           9.269363712425644,
           7.473637108496206,
           9.019785010255125,
           9.229162126216771,
           9.765489054378838,
           8.997518369733845,
           8.533853632309345,
           9.581559041355757,
           8.996404301412886,
           8.980423936374544,
           8.92172453036431,
           8.524168805152662,
           8.97259066827261,
           9.506362568702965,
           9.275847174178303,
           7.226209010100671,
           8.737773460327283,
           9.26926943950547,
           9.831561812964539,
           8.693161274238017,
           9.672689782285058,
           9.813781639451635,
           8.872767529910936,
           9.213036733523925,
           8.568646473005153,
           7.346010209913293,
           8.302761580704049,
           7.480428306074208,
           8.734399150063695,
           8.853808274977197,
           8.898228985601227,
           8.499640032168648,
           8.60061479955531,
           8.101071503119543,
           9.233079858945672,
           8.559102594493448,
           8.771835409789817,
           9.068085324395312,
           8.344029572407049,
           8.743053050224676,
           9.049349685884057,
           8.552946361122055,
           7.7279755421055585,
           8.956737613177264,
           9.62238379544447,
           8.969796305981806,
           9.88644311792687,
           9.837775009170747,
           9.649369196922487,
           9.062188330952324,
           8.40827078419205,
           7.580189417944541,
           8.098034756176071,
           8.104703468371108,
           9.769155839740836,
           8.669914278433902,
           8.935640333747571,
           9.933386102881991,
           9.424967763522053,
           8.765146421639022,
           9.227295812625597,
           7.987524479848767,
           9.600827196903634,
           10.876139714076032,
           9.639587108749145,
           9.337853692275143,
           6.240275845170769,
           10.812975195790544,
           10.469426166355031,
           10.499820923406714,
           9.353921100453707,
           8.939843124278502,
           8.049427057110695,
           9.588228712314113,
           7.7226775164680035,
           7.473637108496206,
           9.140239744296693,
           8.183118079394745,
           7.890582534656536,
           5.641907070938114,
           4.867534450455582,
           4.709530201312334,
           4.584967478670572,
           4.51085950651685,
           4.584967478670572,
           4.6913478822291435,
           3.7376696182833684,
           4.30406509320417,
           4.6913478822291435,
           4.727387818712341,
           4.174387269895637,
           4.394449154672439,
           4.189654742026425,
           7.647786045440933,
           7.175489713624222,
           6.61338421837956,
           6.501289670540389,
           5.19295685089021,
           6.61338421837956,
           9.188605879830176,
           9.209840246934501,
           7.87777633327726,
           8.98682175033189,
           10.168425425507316,
           9.48440514846878,
           9.100190628475195,
           9.112286431500795,
           7.425357887027151,
           8.325306029752582,
           9.642317574624458,
           9.464905067965136,
           6.306275286948016,
           7.813187267521416,
           7.333676395657684,
           9.082961442646353,
           7.170888478512505,
           6.335054251498059,
           6.152732694704104,
           6.336825731146441,
           7.340186835320115,
           6.517671272912275,
           8.905851181208021,
           6.925595197110468,
           6.616065185132817,
           8.453827315794417,
           4.61512051684126,
           4.68213122712422,
           5.62040086571715,
           7.313886831633462,
           5.8888779583328805,
           5.049856007249537,
           5.932245187448011,
           6.293419278846481,
           6.461468176353717,
           4.867534450455582,
           4.912654885736052,
           7.77485576666552,
           4.584967478670572,
           6.45833828334479,
           5.993961427306569,
           5.429345628954441,
           6.863803391452954,
           6.946975992135418,
           6.904750769961838,
           9.09301972939964,
           7.247792581767846,
           10.02857716337495,
           6.962243464266207,
           8.093156697722637,
           6.424869023905388,
           5.998936561946683,
           7.575071699507561,
           4.852030263919617,
           4.6443908991413725,
           3.7612001156935624,
           6.669498089857879,
           5.673323267171493,
           5.4680601411351315,
           6.80128303447162,
           7.445417556701687,
           4.653960350157523,
           4.787491742782046,
           8.079308192051961,
           5.552959584921617,
           2.5649493574615367,
           6.761572768804055,
           6.556778356158042,
           7.066466970136958,
           5.209486152841421,
           5.3981627015177525,
           8.19891444498699,
           10.012297113393403,
           7.822845290279774,
           5.198497031265826,
           5.834810737062605,
           4.442651256490317,
           5.840641657373398,
           3.6635616461296463,
           5.303304908059076,
           3.7376696182833684,
           4.5217885770490405,
           3.4657359027997265,
           4.948759890378168,
           6.352629396319567,
           5.318119993844216,
           6.030685260261263,
           7.675081857716334,
           4.948759890378168,
           5.159055299214529,
           7.974188669286011,
           6.18826412308259,
           8.723231274827508,
           6.1092475827643655,
           8.675392806089782,
           6.236369590203704,
           7.725771441587952,
           5.0106352940962555,
           5.081404364984463,
           7.397561535524052,
           7.487733761436444,
           7.1808311990445555,
           5.476463551931511,
           8.175829008714597,
           5.916202062607435,
           6.161207321695077,
           5.442417710521793,
           6.293419278846481,
           6.447305862541213,
           7.380879035564116,
           6.444131256700441,
           5.2574953720277815,
           5.5053315359323625,
           5.631211781821365,
           4.700480365792417,
           4.882801922586371,
           5.955837369464831,
           5.921578419643816,
           3.912023005428146,
           3.6375861597263857,
           3.8501476017100584,
           6.608000625296087,
           4.343805421853684,
           4.727387818712341,
           3.5263605246161616,
           4.990432586778736,
           7.20414929203594,
           5.111987788356544,
           2.995732273553991,
           6.386879319362645,
           5.4680601411351315,
           5.049856007249537,
           5.159055299214529,
           4.007333185232471,
           7.457609289715606,
           4.90527477843843,
           2.70805020110221,
           5.497168225293202,
           6.99117688712121,
           4.844187086458591,
           5.0106352940962555,
           3.9318256327243257,
           3.4011973816621555,
           4.127134385045092,
           5.4638318050256105,
           5.298317366548036,
           4.61512051684126,
           4.3694478524670215,
           4.406719247264253,
           5.087596335232384,
           3.7376696182833684,
           6.1070228877422545,
           3.7376696182833684,
           5.19295685089021,
           8.268988209506656,
           6.5638555265321274,
           4.564348191467836,
           5.978885764901122,
           4.5217885770490405,
           6.267200548541362,
           6.311734809152915,
           9.562334377396374,
           6.917705609835305,
           5.356586274672012,
           8.086410275323782,
           5.093750200806762,
           8.023552392404348,
           7.788211557847076,
           5.327876168789581,
           5.407171771460119,
           6.498282149476434,
           4.23410650459726,
           7.214504414151143,
           6.295266001439646,
           5.41610040220442,
           5.14166355650266,
           4.189654742026425,
           5.187385805840755,
           5.480638923341991,
           5.7745515455444085,
           8.711113884053544,
           5.707110264748875,
           6.180016653652572,
           4.418840607796598,
           4.343805421853684,
           5.860786223465865,
           9.867342105899775,
           7.1049654482698426,
           10.086225689215299,
           6.703188113240863,
           4.9344739331306915,
           3.332204510175204,
           5.332718793265369,
           3.5553480614894135,
           4.248495242049359,
           5.176149732573829,
           5.442417710521793,
           3.5263605246161616,
           3.2188758248682006,
           3.4965075614664802,
           5.117993812416755,
           2.0794415416798357,
           4.007333185232471,
           3.4965075614664802,
           2.1972245773362196,
           3.8066624897703196,
           5.017279836814924,
           4.007333185232471,
           6.452048954437226,
           9.161045080251306,
           10.29620508782179,
           3.4011973816621555,
           7.0630481633881725,
           2.9444389791664403,
           2.4849066497880004,
           2.302585092994046,
           4.882801922586371,
           5.170483995038151,
           5.652489180268651,
           8.757469141470748,
           6.403574197934815,
           7.6093665379542115,
           3.6109179126442243,
           5.805134968916488,
           5.564520407322694,
           4.499809670330265,
           5.717027701406222,
           7.664346632098617
          ],
          "sizemode": "area",
          "sizeref": 0.11388857721846707
         },
         "mode": "markers",
         "name": "",
         "showlegend": false,
         "subplot": "mapbox",
         "type": "scattermapbox"
        }
       ],
       "layout": {
        "coloraxis": {
         "colorbar": {
          "title": {
           "text": "Log crimes"
          }
         },
         "colorscale": [
          [
           0,
           "#000004"
          ],
          [
           0.1111111111111111,
           "#1b0c41"
          ],
          [
           0.2222222222222222,
           "#4a0c6b"
          ],
          [
           0.3333333333333333,
           "#781c6d"
          ],
          [
           0.4444444444444444,
           "#a52c60"
          ],
          [
           0.5555555555555556,
           "#cf4446"
          ],
          [
           0.6666666666666666,
           "#ed6925"
          ],
          [
           0.7777777777777778,
           "#fb9b06"
          ],
          [
           0.8888888888888888,
           "#f7d13d"
          ],
          [
           1,
           "#fcffa4"
          ]
         ]
        },
        "height": 850,
        "legend": {
         "itemsizing": "constant",
         "tracegroupgap": 0
        },
        "mapbox": {
         "bearing": 0,
         "center": {
          "lat": -32.349135901936314,
          "lon": 134.81246464649314
         },
         "domain": {
          "x": [
           0,
           1
          ],
          "y": [
           0,
           1
          ]
         },
         "pitch": 0,
         "style": "carto-positron",
         "zoom": 5
        },
        "margin": {
         "t": 60
        },
        "template": {
         "data": {
          "bar": [
           {
            "error_x": {
             "color": "#2a3f5f"
            },
            "error_y": {
             "color": "#2a3f5f"
            },
            "marker": {
             "line": {
              "color": "#E5ECF6",
              "width": 0.5
             },
             "pattern": {
              "fillmode": "overlay",
              "size": 10,
              "solidity": 0.2
             }
            },
            "type": "bar"
           }
          ],
          "barpolar": [
           {
            "marker": {
             "line": {
              "color": "#E5ECF6",
              "width": 0.5
             },
             "pattern": {
              "fillmode": "overlay",
              "size": 10,
              "solidity": 0.2
             }
            },
            "type": "barpolar"
           }
          ],
          "carpet": [
           {
            "aaxis": {
             "endlinecolor": "#2a3f5f",
             "gridcolor": "white",
             "linecolor": "white",
             "minorgridcolor": "white",
             "startlinecolor": "#2a3f5f"
            },
            "baxis": {
             "endlinecolor": "#2a3f5f",
             "gridcolor": "white",
             "linecolor": "white",
             "minorgridcolor": "white",
             "startlinecolor": "#2a3f5f"
            },
            "type": "carpet"
           }
          ],
          "choropleth": [
           {
            "colorbar": {
             "outlinewidth": 0,
             "ticks": ""
            },
            "type": "choropleth"
           }
          ],
          "contour": [
           {
            "colorbar": {
             "outlinewidth": 0,
             "ticks": ""
            },
            "colorscale": [
             [
              0,
              "#0d0887"
             ],
             [
              0.1111111111111111,
              "#46039f"
             ],
             [
              0.2222222222222222,
              "#7201a8"
             ],
             [
              0.3333333333333333,
              "#9c179e"
             ],
             [
              0.4444444444444444,
              "#bd3786"
             ],
             [
              0.5555555555555556,
              "#d8576b"
             ],
             [
              0.6666666666666666,
              "#ed7953"
             ],
             [
              0.7777777777777778,
              "#fb9f3a"
             ],
             [
              0.8888888888888888,
              "#fdca26"
             ],
             [
              1,
              "#f0f921"
             ]
            ],
            "type": "contour"
           }
          ],
          "contourcarpet": [
           {
            "colorbar": {
             "outlinewidth": 0,
             "ticks": ""
            },
            "type": "contourcarpet"
           }
          ],
          "heatmap": [
           {
            "colorbar": {
             "outlinewidth": 0,
             "ticks": ""
            },
            "colorscale": [
             [
              0,
              "#0d0887"
             ],
             [
              0.1111111111111111,
              "#46039f"
             ],
             [
              0.2222222222222222,
              "#7201a8"
             ],
             [
              0.3333333333333333,
              "#9c179e"
             ],
             [
              0.4444444444444444,
              "#bd3786"
             ],
             [
              0.5555555555555556,
              "#d8576b"
             ],
             [
              0.6666666666666666,
              "#ed7953"
             ],
             [
              0.7777777777777778,
              "#fb9f3a"
             ],
             [
              0.8888888888888888,
              "#fdca26"
             ],
             [
              1,
              "#f0f921"
             ]
            ],
            "type": "heatmap"
           }
          ],
          "heatmapgl": [
           {
            "colorbar": {
             "outlinewidth": 0,
             "ticks": ""
            },
            "colorscale": [
             [
              0,
              "#0d0887"
             ],
             [
              0.1111111111111111,
              "#46039f"
             ],
             [
              0.2222222222222222,
              "#7201a8"
             ],
             [
              0.3333333333333333,
              "#9c179e"
             ],
             [
              0.4444444444444444,
              "#bd3786"
             ],
             [
              0.5555555555555556,
              "#d8576b"
             ],
             [
              0.6666666666666666,
              "#ed7953"
             ],
             [
              0.7777777777777778,
              "#fb9f3a"
             ],
             [
              0.8888888888888888,
              "#fdca26"
             ],
             [
              1,
              "#f0f921"
             ]
            ],
            "type": "heatmapgl"
           }
          ],
          "histogram": [
           {
            "marker": {
             "pattern": {
              "fillmode": "overlay",
              "size": 10,
              "solidity": 0.2
             }
            },
            "type": "histogram"
           }
          ],
          "histogram2d": [
           {
            "colorbar": {
             "outlinewidth": 0,
             "ticks": ""
            },
            "colorscale": [
             [
              0,
              "#0d0887"
             ],
             [
              0.1111111111111111,
              "#46039f"
             ],
             [
              0.2222222222222222,
              "#7201a8"
             ],
             [
              0.3333333333333333,
              "#9c179e"
             ],
             [
              0.4444444444444444,
              "#bd3786"
             ],
             [
              0.5555555555555556,
              "#d8576b"
             ],
             [
              0.6666666666666666,
              "#ed7953"
             ],
             [
              0.7777777777777778,
              "#fb9f3a"
             ],
             [
              0.8888888888888888,
              "#fdca26"
             ],
             [
              1,
              "#f0f921"
             ]
            ],
            "type": "histogram2d"
           }
          ],
          "histogram2dcontour": [
           {
            "colorbar": {
             "outlinewidth": 0,
             "ticks": ""
            },
            "colorscale": [
             [
              0,
              "#0d0887"
             ],
             [
              0.1111111111111111,
              "#46039f"
             ],
             [
              0.2222222222222222,
              "#7201a8"
             ],
             [
              0.3333333333333333,
              "#9c179e"
             ],
             [
              0.4444444444444444,
              "#bd3786"
             ],
             [
              0.5555555555555556,
              "#d8576b"
             ],
             [
              0.6666666666666666,
              "#ed7953"
             ],
             [
              0.7777777777777778,
              "#fb9f3a"
             ],
             [
              0.8888888888888888,
              "#fdca26"
             ],
             [
              1,
              "#f0f921"
             ]
            ],
            "type": "histogram2dcontour"
           }
          ],
          "mesh3d": [
           {
            "colorbar": {
             "outlinewidth": 0,
             "ticks": ""
            },
            "type": "mesh3d"
           }
          ],
          "parcoords": [
           {
            "line": {
             "colorbar": {
              "outlinewidth": 0,
              "ticks": ""
             }
            },
            "type": "parcoords"
           }
          ],
          "pie": [
           {
            "automargin": true,
            "type": "pie"
           }
          ],
          "scatter": [
           {
            "fillpattern": {
             "fillmode": "overlay",
             "size": 10,
             "solidity": 0.2
            },
            "type": "scatter"
           }
          ],
          "scatter3d": [
           {
            "line": {
             "colorbar": {
              "outlinewidth": 0,
              "ticks": ""
             }
            },
            "marker": {
             "colorbar": {
              "outlinewidth": 0,
              "ticks": ""
             }
            },
            "type": "scatter3d"
           }
          ],
          "scattercarpet": [
           {
            "marker": {
             "colorbar": {
              "outlinewidth": 0,
              "ticks": ""
             }
            },
            "type": "scattercarpet"
           }
          ],
          "scattergeo": [
           {
            "marker": {
             "colorbar": {
              "outlinewidth": 0,
              "ticks": ""
             }
            },
            "type": "scattergeo"
           }
          ],
          "scattergl": [
           {
            "marker": {
             "colorbar": {
              "outlinewidth": 0,
              "ticks": ""
             }
            },
            "type": "scattergl"
           }
          ],
          "scattermapbox": [
           {
            "marker": {
             "colorbar": {
              "outlinewidth": 0,
              "ticks": ""
             }
            },
            "type": "scattermapbox"
           }
          ],
          "scatterpolar": [
           {
            "marker": {
             "colorbar": {
              "outlinewidth": 0,
              "ticks": ""
             }
            },
            "type": "scatterpolar"
           }
          ],
          "scatterpolargl": [
           {
            "marker": {
             "colorbar": {
              "outlinewidth": 0,
              "ticks": ""
             }
            },
            "type": "scatterpolargl"
           }
          ],
          "scatterternary": [
           {
            "marker": {
             "colorbar": {
              "outlinewidth": 0,
              "ticks": ""
             }
            },
            "type": "scatterternary"
           }
          ],
          "surface": [
           {
            "colorbar": {
             "outlinewidth": 0,
             "ticks": ""
            },
            "colorscale": [
             [
              0,
              "#0d0887"
             ],
             [
              0.1111111111111111,
              "#46039f"
             ],
             [
              0.2222222222222222,
              "#7201a8"
             ],
             [
              0.3333333333333333,
              "#9c179e"
             ],
             [
              0.4444444444444444,
              "#bd3786"
             ],
             [
              0.5555555555555556,
              "#d8576b"
             ],
             [
              0.6666666666666666,
              "#ed7953"
             ],
             [
              0.7777777777777778,
              "#fb9f3a"
             ],
             [
              0.8888888888888888,
              "#fdca26"
             ],
             [
              1,
              "#f0f921"
             ]
            ],
            "type": "surface"
           }
          ],
          "table": [
           {
            "cells": {
             "fill": {
              "color": "#EBF0F8"
             },
             "line": {
              "color": "white"
             }
            },
            "header": {
             "fill": {
              "color": "#C8D4E3"
             },
             "line": {
              "color": "white"
             }
            },
            "type": "table"
           }
          ]
         },
         "layout": {
          "annotationdefaults": {
           "arrowcolor": "#2a3f5f",
           "arrowhead": 0,
           "arrowwidth": 1
          },
          "autotypenumbers": "strict",
          "coloraxis": {
           "colorbar": {
            "outlinewidth": 0,
            "ticks": ""
           }
          },
          "colorscale": {
           "diverging": [
            [
             0,
             "#8e0152"
            ],
            [
             0.1,
             "#c51b7d"
            ],
            [
             0.2,
             "#de77ae"
            ],
            [
             0.3,
             "#f1b6da"
            ],
            [
             0.4,
             "#fde0ef"
            ],
            [
             0.5,
             "#f7f7f7"
            ],
            [
             0.6,
             "#e6f5d0"
            ],
            [
             0.7,
             "#b8e186"
            ],
            [
             0.8,
             "#7fbc41"
            ],
            [
             0.9,
             "#4d9221"
            ],
            [
             1,
             "#276419"
            ]
           ],
           "sequential": [
            [
             0,
             "#0d0887"
            ],
            [
             0.1111111111111111,
             "#46039f"
            ],
            [
             0.2222222222222222,
             "#7201a8"
            ],
            [
             0.3333333333333333,
             "#9c179e"
            ],
            [
             0.4444444444444444,
             "#bd3786"
            ],
            [
             0.5555555555555556,
             "#d8576b"
            ],
            [
             0.6666666666666666,
             "#ed7953"
            ],
            [
             0.7777777777777778,
             "#fb9f3a"
            ],
            [
             0.8888888888888888,
             "#fdca26"
            ],
            [
             1,
             "#f0f921"
            ]
           ],
           "sequentialminus": [
            [
             0,
             "#0d0887"
            ],
            [
             0.1111111111111111,
             "#46039f"
            ],
            [
             0.2222222222222222,
             "#7201a8"
            ],
            [
             0.3333333333333333,
             "#9c179e"
            ],
            [
             0.4444444444444444,
             "#bd3786"
            ],
            [
             0.5555555555555556,
             "#d8576b"
            ],
            [
             0.6666666666666666,
             "#ed7953"
            ],
            [
             0.7777777777777778,
             "#fb9f3a"
            ],
            [
             0.8888888888888888,
             "#fdca26"
            ],
            [
             1,
             "#f0f921"
            ]
           ]
          },
          "colorway": [
           "#636efa",
           "#EF553B",
           "#00cc96",
           "#ab63fa",
           "#FFA15A",
           "#19d3f3",
           "#FF6692",
           "#B6E880",
           "#FF97FF",
           "#FECB52"
          ],
          "font": {
           "color": "#2a3f5f"
          },
          "geo": {
           "bgcolor": "white",
           "lakecolor": "white",
           "landcolor": "#E5ECF6",
           "showlakes": true,
           "showland": true,
           "subunitcolor": "white"
          },
          "hoverlabel": {
           "align": "left"
          },
          "hovermode": "closest",
          "mapbox": {
           "style": "light"
          },
          "paper_bgcolor": "white",
          "plot_bgcolor": "#E5ECF6",
          "polar": {
           "angularaxis": {
            "gridcolor": "white",
            "linecolor": "white",
            "ticks": ""
           },
           "bgcolor": "#E5ECF6",
           "radialaxis": {
            "gridcolor": "white",
            "linecolor": "white",
            "ticks": ""
           }
          },
          "scene": {
           "xaxis": {
            "backgroundcolor": "#E5ECF6",
            "gridcolor": "white",
            "gridwidth": 2,
            "linecolor": "white",
            "showbackground": true,
            "ticks": "",
            "zerolinecolor": "white"
           },
           "yaxis": {
            "backgroundcolor": "#E5ECF6",
            "gridcolor": "white",
            "gridwidth": 2,
            "linecolor": "white",
            "showbackground": true,
            "ticks": "",
            "zerolinecolor": "white"
           },
           "zaxis": {
            "backgroundcolor": "#E5ECF6",
            "gridcolor": "white",
            "gridwidth": 2,
            "linecolor": "white",
            "showbackground": true,
            "ticks": "",
            "zerolinecolor": "white"
           }
          },
          "shapedefaults": {
           "line": {
            "color": "#2a3f5f"
           }
          },
          "ternary": {
           "aaxis": {
            "gridcolor": "white",
            "linecolor": "white",
            "ticks": ""
           },
           "baxis": {
            "gridcolor": "white",
            "linecolor": "white",
            "ticks": ""
           },
           "bgcolor": "#E5ECF6",
           "caxis": {
            "gridcolor": "white",
            "linecolor": "white",
            "ticks": ""
           }
          },
          "title": {
           "x": 0.05
          },
          "xaxis": {
           "automargin": true,
           "gridcolor": "white",
           "linecolor": "white",
           "ticks": "",
           "title": {
            "standoff": 15
           },
           "zerolinecolor": "white",
           "zerolinewidth": 2
          },
          "yaxis": {
           "automargin": true,
           "gridcolor": "white",
           "linecolor": "white",
           "ticks": "",
           "title": {
            "standoff": 15
           },
           "zerolinecolor": "white",
           "zerolinewidth": 2
          }
         }
        },
        "width": 1000
       }
      },
      "image/png": "[encoded data removed]",
      "text/html": [
       "<div>                            <div id=\"a84ab246-39a2-4309-a28a-5004f386abc7\" class=\"plotly-graph-div\" style=\"height:850px; width:1000px;\"></div>            <script type=\"text/javascript\">                require([\"plotly\"], function(Plotly) {                    window.PLOTLYENV=window.PLOTLYENV || {};                                    if (document.getElementById(\"a84ab246-39a2-4309-a28a-5004f386abc7\")) {                    Plotly.newPlot(                        \"a84ab246-39a2-4309-a28a-5004f386abc7\",                        [{\"hovertemplate\":\"<b>%{hovertext}</b><br><br>Log crimes=%{marker.color}<br>lat=%{lat}<br>long=%{lon}<extra></extra>\",\"hovertext\":[\"Postcode: 5000\",\"Postcode: 5001\",\"Postcode: 5005\",\"Postcode: 5006\",\"Postcode: 5007\",\"Postcode: 5008\",\"Postcode: 5009\",\"Postcode: 5010\",\"Postcode: 5011\",\"Postcode: 5012\",\"Postcode: 5013\",\"Postcode: 5014\",\"Postcode: 5015\",\"Postcode: 5016\",\"Postcode: 5017\",\"Postcode: 5018\",\"Postcode: 5019\",\"Postcode: 5020\",\"Postcode: 5021\",\"Postcode: 5022\",\"Postcode: 5023\",\"Postcode: 5024\",\"Postcode: 5025\",\"Postcode: 5031\",\"Postcode: 5032\",\"Postcode: 5033\",\"Postcode: 5034\",\"Postcode: 5035\",\"Postcode: 5037\",\"Postcode: 5038\",\"Postcode: 5039\",\"Postcode: 5040\",\"Postcode: 5041\",\"Postcode: 5042\",\"Postcode: 5043\",\"Postcode: 5044\",\"Postcode: 5045\",\"Postcode: 5046\",\"Postcode: 5047\",\"Postcode: 5048\",\"Postcode: 5049\",\"Postcode: 5050\",\"Postcode: 5051\",\"Postcode: 5052\",\"Postcode: 5061\",\"Postcode: 5062\",\"Postcode: 5063\",\"Postcode: 5064\",\"Postcode: 5065\",\"Postcode: 5066\",\"Postcode: 5067\",\"Postcode: 5068\",\"Postcode: 5069\",\"Postcode: 5070\",\"Postcode: 5072\",\"Postcode: 5073\",\"Postcode: 5074\",\"Postcode: 5075\",\"Postcode: 5076\",\"Postcode: 5081\",\"Postcode: 5082\",\"Postcode: 5083\",\"Postcode: 5084\",\"Postcode: 5085\",\"Postcode: 5086\",\"Postcode: 5087\",\"Postcode: 5088\",\"Postcode: 5089\",\"Postcode: 5090\",\"Postcode: 5091\",\"Postcode: 5092\",\"Postcode: 5093\",\"Postcode: 5094\",\"Postcode: 5095\",\"Postcode: 5096\",\"Postcode: 5097\",\"Postcode: 5098\",\"Postcode: 5106\",\"Postcode: 5107\",\"Postcode: 5108\",\"Postcode: 5109\",\"Postcode: 5110\",\"Postcode: 5111\",\"Postcode: 5112\",\"Postcode: 5113\",\"Postcode: 5114\",\"Postcode: 5115\",\"Postcode: 5116\",\"Postcode: 5117\",\"Postcode: 5118\",\"Postcode: 5120\",\"Postcode: 5121\",\"Postcode: 5125\",\"Postcode: 5126\",\"Postcode: 5127\",\"Postcode: 5131\",\"Postcode: 5132\",\"Postcode: 5133\",\"Postcode: 5134\",\"Postcode: 5136\",\"Postcode: 5137\",\"Postcode: 5138\",\"Postcode: 5139\",\"Postcode: 5140\",\"Postcode: 5141\",\"Postcode: 5142\",\"Postcode: 5144\",\"Postcode: 5150\",\"Postcode: 5151\",\"Postcode: 5152\",\"Postcode: 5153\",\"Postcode: 5154\",\"Postcode: 5155\",\"Postcode: 5156\",\"Postcode: 5157\",\"Postcode: 5158\",\"Postcode: 5159\",\"Postcode: 5160\",\"Postcode: 5161\",\"Postcode: 5162\",\"Postcode: 5163\",\"Postcode: 5164\",\"Postcode: 5165\",\"Postcode: 5166\",\"Postcode: 5167\",\"Postcode: 5168\",\"Postcode: 5169\",\"Postcode: 5170\",\"Postcode: 5171\",\"Postcode: 5172\",\"Postcode: 5173\",\"Postcode: 5174\",\"Postcode: 5201\",\"Postcode: 5202\",\"Postcode: 5203\",\"Postcode: 5204\",\"Postcode: 5210\",\"Postcode: 5211\",\"Postcode: 5212\",\"Postcode: 5213\",\"Postcode: 5214\",\"Postcode: 5220\",\"Postcode: 5221\",\"Postcode: 5222\",\"Postcode: 5223\",\"Postcode: 5231\",\"Postcode: 5232\",\"Postcode: 5233\",\"Postcode: 5234\",\"Postcode: 5235\",\"Postcode: 5236\",\"Postcode: 5237\",\"Postcode: 5238\",\"Postcode: 5240\",\"Postcode: 5241\",\"Postcode: 5242\",\"Postcode: 5243\",\"Postcode: 5244\",\"Postcode: 5245\",\"Postcode: 5250\",\"Postcode: 5251\",\"Postcode: 5252\",\"Postcode: 5253\",\"Postcode: 5254\",\"Postcode: 5255\",\"Postcode: 5256\",\"Postcode: 5259\",\"Postcode: 5260\",\"Postcode: 5261\",\"Postcode: 5262\",\"Postcode: 5263\",\"Postcode: 5264\",\"Postcode: 5265\",\"Postcode: 5266\",\"Postcode: 5267\",\"Postcode: 5268\",\"Postcode: 5269\",\"Postcode: 5270\",\"Postcode: 5271\",\"Postcode: 5272\",\"Postcode: 5273\",\"Postcode: 5275\",\"Postcode: 5276\",\"Postcode: 5277\",\"Postcode: 5278\",\"Postcode: 5279\",\"Postcode: 5280\",\"Postcode: 5290\",\"Postcode: 5291\",\"Postcode: 5301\",\"Postcode: 5302\",\"Postcode: 5303\",\"Postcode: 5304\",\"Postcode: 5306\",\"Postcode: 5307\",\"Postcode: 5308\",\"Postcode: 5309\",\"Postcode: 5310\",\"Postcode: 5311\",\"Postcode: 5320\",\"Postcode: 5321\",\"Postcode: 5322\",\"Postcode: 5330\",\"Postcode: 5331\",\"Postcode: 5332\",\"Postcode: 5333\",\"Postcode: 5340\",\"Postcode: 5341\",\"Postcode: 5342\",\"Postcode: 5343\",\"Postcode: 5344\",\"Postcode: 5345\",\"Postcode: 5346\",\"Postcode: 5350\",\"Postcode: 5351\",\"Postcode: 5352\",\"Postcode: 5353\",\"Postcode: 5354\",\"Postcode: 5355\",\"Postcode: 5356\",\"Postcode: 5357\",\"Postcode: 5360\",\"Postcode: 5371\",\"Postcode: 5372\",\"Postcode: 5373\",\"Postcode: 5374\",\"Postcode: 5381\",\"Postcode: 5400\",\"Postcode: 5401\",\"Postcode: 5410\",\"Postcode: 5411\",\"Postcode: 5412\",\"Postcode: 5413\",\"Postcode: 5414\",\"Postcode: 5415\",\"Postcode: 5416\",\"Postcode: 5417\",\"Postcode: 5418\",\"Postcode: 5419\",\"Postcode: 5420\",\"Postcode: 5421\",\"Postcode: 5422\",\"Postcode: 5431\",\"Postcode: 5432\",\"Postcode: 5433\",\"Postcode: 5434\",\"Postcode: 5440\",\"Postcode: 5451\",\"Postcode: 5452\",\"Postcode: 5453\",\"Postcode: 5454\",\"Postcode: 5455\",\"Postcode: 5460\",\"Postcode: 5461\",\"Postcode: 5462\",\"Postcode: 5464\",\"Postcode: 5470\",\"Postcode: 5471\",\"Postcode: 5472\",\"Postcode: 5473\",\"Postcode: 5480\",\"Postcode: 5481\",\"Postcode: 5482\",\"Postcode: 5483\",\"Postcode: 5485\",\"Postcode: 5490\",\"Postcode: 5491\",\"Postcode: 5493\",\"Postcode: 5495\",\"Postcode: 5501\",\"Postcode: 5502\",\"Postcode: 5510\",\"Postcode: 5520\",\"Postcode: 5521\",\"Postcode: 5522\",\"Postcode: 5523\",\"Postcode: 5540\",\"Postcode: 5550\",\"Postcode: 5552\",\"Postcode: 5554\",\"Postcode: 5555\",\"Postcode: 5556\",\"Postcode: 5558\",\"Postcode: 5560\",\"Postcode: 5570\",\"Postcode: 5571\",\"Postcode: 5572\",\"Postcode: 5573\",\"Postcode: 5575\",\"Postcode: 5576\",\"Postcode: 5577\",\"Postcode: 5580\",\"Postcode: 5581\",\"Postcode: 5582\",\"Postcode: 5583\",\"Postcode: 5600\",\"Postcode: 5601\",\"Postcode: 5602\",\"Postcode: 5603\",\"Postcode: 5604\",\"Postcode: 5605\",\"Postcode: 5606\",\"Postcode: 5607\",\"Postcode: 5608\",\"Postcode: 5609\",\"Postcode: 5611\",\"Postcode: 5630\",\"Postcode: 5631\",\"Postcode: 5632\",\"Postcode: 5633\",\"Postcode: 5640\",\"Postcode: 5641\",\"Postcode: 5642\",\"Postcode: 5650\",\"Postcode: 5651\",\"Postcode: 5652\",\"Postcode: 5653\",\"Postcode: 5654\",\"Postcode: 5655\",\"Postcode: 5660\",\"Postcode: 5661\",\"Postcode: 5670\",\"Postcode: 5671\",\"Postcode: 5680\",\"Postcode: 5690\",\"Postcode: 5700\",\"Postcode: 5701\",\"Postcode: 5710\",\"Postcode: 5713\",\"Postcode: 5715\",\"Postcode: 5717\",\"Postcode: 5719\",\"Postcode: 5720\",\"Postcode: 5722\",\"Postcode: 5723\",\"Postcode: 5724\",\"Postcode: 5725\",\"Postcode: 5730\",\"Postcode: 5731\",\"Postcode: 5732\",\"Postcode: 5733\",\"Postcode: 5734\",\"Postcode: 5950\"],\"lat\":[-34.92849902,-34.92849902,-34.919398,-34.911523,-34.903259,-34.887511,-34.896906,-34.857497,-34.87089128,-34.86303,-34.841984,-34.86475,-34.808422,-34.824516,-34.806494,-34.779057,-34.847707,-34.867318,-34.86628,-34.905461,-34.90073,-34.948827,-34.912384,-34.936926,-34.935734,-34.938858,-34.956227,-34.952075,-34.957399,-34.968051,-34.976263,-34.963083,-35.00298,-35.007341,-35.005492,-35.001213,-34.977122,-35.003794,-35.030702,-35.017416,-35.045389,-35.026307,-35.033769,-35.003888,-34.957195,-35.004063,-34.954325,-34.963195,-34.940362,-34.940962,-34.919985,-34.922605,-34.907597,-34.900496,-34.912078,-34.89528,-34.884233,-34.861332,-34.873844,-34.891417,-34.886018,-34.879357,-34.864409,-34.856239,-34.854247,-34.876988,-34.847141,-34.851049,-34.843346,-34.822615,-34.821319,-34.83977,-34.802736,-34.820685,-34.798549,-34.819614,-34.829603,-34.793169,-34.784447,-34.761553,-34.771432,-34.72213,-34.709347,-34.726229,-34.702506,-34.718681,-34.669486,-34.622783,-34.641267,-34.58378,-34.668553,-34.68857809,-34.773234,-34.793414,-34.796682,-34.795292,-34.857324,-34.810928,-34.891863,-34.921123,-34.945777,-34.934914,-34.924843,-34.939245,-34.957325,-34.960813,-34.968504,-35.010886,-34.974283,-34.998401,-35.091002,-35.023252,-35.020077,-35.030185,-35.143492,-35.084001,-35.061705,-35.110123,-35.096383,-35.112119,-35.147923,-35.124824,-35.137389,-35.115305,-35.166866,-35.149737,-35.194211,-35.237265,-35.196481,-35.28775,-35.290568,-35.330569,-35.206107,-35.386025,-35.450839,-35.572164,-35.387709,-35.566153,-35.520797,-35.500615,-35.491206,-35.744959,-35.793776,-35.803421,-35.811358,-34.81588636,-34.855449,-34.839937,-34.805141,-34.705292,-34.829433,-34.823114,-34.867709,-34.906905,-34.897167,-34.998416,-34.96322,-34.938664,-35.020412,-35.0417052,-35.13772392,-35.035729,-35.109083,-35.097045,-35.248539,-35.492114,-35.521405,-35.233606,-35.59601,-36.780524,-37.307042,-35.669947,-35.718823,-35.902842,-36.093534,-36.189376,-36.404918,-36.404918,-36.792946,-37.162862,-36.942586,-36.61323,-37.214147,-37.435507,-37.527142,-37.574691,-37.449179,-37.839841,-37.927953,-35.449887,-35.579513,-35.191375,-35.05261065,-35.096798,-35.037558,-34.627126,-34.850669,-34.794834,-34.721845,-34.01813129,-34.064708,-34.177881,-33.94707,-34.2200272,-34.251101,-34.35703813,-34.176844,-33.739084,-34.240296,-34.321288,-34.285345,-34.187027,-34.250013,-34.550897,-34.638218,-34.54472249,-34.577328,-34.538013,-34.443966,-34.39697297,-34.343393,-34.446813,-34.41538531,-34.435921,-34.303007,-34.152477,-33.965473,-34.42150567,-34.29774,-34.366816,-34.256363,-34.18289,-34.080278,-33.949431,-33.942677,-33.804669,-33.66497478,-33.357329,-33.397741,-33.252592,-33.13467,-32.97338,-32.212021,-31.95109636,-32.180856,-31.568218,-32.21594669,-34.092233,-33.969454,-33.802932,-33.531714,-33.673948,-34.312427,-34.095314,-33.896378,-33.676424,-33.575379,-33.47611,-33.387234,-33.257131,-33.125751,-33.012446,-32.842201,-32.8863,-32.546383,-33.169137,-33.194457,-33.015031,-32.88219,-34.595073,-34.49618603,-33.9491,-33.769107,-33.567546,-33.578188,-33.187701,-33.205773,-34.093038,-34.061253,-33.928029,-33.656811,-33.950853,-34.105205,-33.895055,-34.272303,-34.51494,-34.237139,-34.514149,-34.823141,-35.050773,-34.91058608,-34.658726,-34.789625,-34.94231,-35.117696,-33.036339,-32.91326147,-33.530464,-33.831212,-34.00333,-34.2583,-35.373243,-35.156446,-33.05754209,-33.14979064,-33.1001,-34.420483,-34.285785,-34.129198,-33.448521,-33.606021,-33.100172,-33.558726,-33.152294,-33.169608,-33.091309,-32.967987,-32.833204,-32.58529275,-32.5914954,-32.34533569,-33.409359,-33.21045,-32.672797,-32.282716,-32.69008918,-32.5778,-27.467217,-32.3424,-32.3299,-32.2263,-30.59001247,-31.11831978,-30.779803,-27.79517514,-27.180602,-30.430931,-31.12462639,-28.87101485,-30.65815918,-26.32008739,-26.09784494,-34.945146],\"legendgroup\":\"\",\"lon\":[138.600746,138.600746,138.60351,138.584497,138.56787,138.559407,138.542493,138.558318,138.5353265,138.541637,138.553453,138.509247,138.531567,138.493796,138.498128,138.49958,138.477054,138.481639,138.492908,138.49264,138.51199,138.506052,138.529573,138.570873,138.544358,138.558451,138.58811,138.575187,138.545826,138.548367,138.570739,138.527412,138.594176,138.575023,138.553853,138.516314,138.516973,138.535434,138.546572,138.520459,138.52272,138.601272,138.620405,138.618684,138.60648,138.602387,138.621477,138.649183,138.633974,138.66029,138.630575,138.654999,138.623527,138.642172,138.696113,138.683151,138.669275,138.675254,138.703683,138.617673,138.587083,138.609927,138.581605,138.612959,138.64344,138.637707,138.673783,138.724487,138.704628,138.735572,138.680226,138.657974,138.581513,138.6199,138.644685,138.707261,138.638946,138.629463,138.609874,138.61884,138.663871,138.565037,138.62532,138.666615,138.674449,138.754254,138.681702,138.724059,138.636537,138.705675,138.507899,138.6507658,138.738733,138.724953,138.674657,138.758111,138.75703,138.776976,138.760552,138.735107,138.735962,138.768586,138.788705,138.710203,138.722419,138.740223,138.769031,138.654942,138.723897,138.703957,138.757945,138.73592,138.756728,138.656697,138.633118,138.519781,138.603897,138.50172,138.515652,138.565224,138.552209,138.500365,138.475092,138.478636,138.481211,138.49632,138.477958,138.478943,138.553437,138.555169,138.470002,138.47117,138.727179,138.505922,138.388132,138.324567,138.655684,138.627975,138.668775,138.710195,138.834806,137.236746,137.72022,137.924659,137.541715,138.839512,138.815964,138.882403,138.966075,139.084565,139.051698,139.191868,139.497207,138.815277,138.864359,138.819125,138.828161,138.946384,138.791651,138.8860811,138.8734306,138.947189,139.273641,139.475946,138.975861,139.0336,139.236567,139.511686,139.935161,140.904543,140.838441,139.275737,139.743422,139.815539,140.348707,140.788199,140.601672,140.601672,140.496496,140.321798,140.246064,139.937126,139.917377,140.852283,140.616636,140.462487,140.260783,140.764545,140.719634,140.030554,140.32532,140.685318,140.7825075,139.690888,140.242147,140.050653,140.114394,140.367313,140.811093,139.4416527,139.786627,139.955939,139.975421,140.3170402,140.28104,140.6202534,140.782026,140.753178,140.551874,140.556181,140.51443,140.454506,140.397201,138.83423,138.897802,138.9856268,139.326979,139.652642,139.007886,139.3720816,139.525937,138.897955,138.7560699,138.798551,138.930335,139.12488,139.140266,138.7042845,138.659866,138.768325,138.772345,138.775266,138.883459,138.773663,138.722876,138.796125,139.8482859,139.143828,138.893337,138.961232,138.985832,138.771209,138.883978,139.1945693,138.1056,138.70506,140.3153142,138.620883,138.652781,138.582681,138.604466,138.633474,138.517968,138.444457,138.43015,138.39411,138.482681,138.424322,138.410287,138.351282,138.319834,138.239719,138.357347,138.12371,138.207041,138.482155,138.643794,138.746595,137.946255,138.547998,138.6228575,138.188988,138.12018,138.210043,138.003325,138.2130413,138.080191,138.243785,137.862942,137.756193,138.191161,137.610828,137.598449,138.031867,137.956861,137.811541,137.812526,137.508603,137.544605,137.56046,137.1757976,137.704719,137.748829,137.734592,137.825935,137.277293,137.7869937,136.860876,136.499961,136.301759,136.154091,136.859338,136.456454,137.5325164,137.4398767,136.9795,135.61222,135.66453,135.635831,135.581933,136.437661,136.318517,136.103172,135.740152,135.528428,135.249834,135.229267,135.02092,135.0485689,134.5219878,134.7410492,135.02078,134.673762,134.37909,133.582274,137.7541107,137.961,134.430044,137.8719,137.3609,135.1706,135.5033983,136.9754357,137.197175,135.5333868,133.420868,136.746735,138.5935035,140.7244103,138.8558557,138.9717811,134.7481913,138.530183],\"marker\":{\"color\":[11.388857721846707,1.0986122886681098,0.6931471805599453,9.089640586738398,9.54781210893048,9.667891793282678,9.100302266767246,8.908694592507015,9.631481959469355,9.453678630575912,9.672878705110646,9.423110302862831,9.505171826581176,8.961622569542543,8.813735892300215,8.062747901086354,9.269363712425644,7.473637108496206,9.019785010255125,9.229162126216771,9.765489054378838,8.997518369733845,8.533853632309345,9.581559041355757,8.996404301412886,8.980423936374544,8.92172453036431,8.524168805152662,8.97259066827261,9.506362568702965,9.275847174178303,7.226209010100671,8.737773460327283,9.26926943950547,9.831561812964539,8.693161274238017,9.672689782285058,9.813781639451635,8.872767529910936,9.213036733523925,8.568646473005153,7.346010209913293,8.302761580704049,7.480428306074208,8.734399150063695,8.853808274977197,8.898228985601227,8.499640032168648,8.60061479955531,8.101071503119543,9.233079858945672,8.559102594493448,8.771835409789817,9.068085324395312,8.344029572407049,8.743053050224676,9.049349685884057,8.552946361122055,7.7279755421055585,8.956737613177264,9.62238379544447,8.969796305981806,9.88644311792687,9.837775009170747,9.649369196922487,9.062188330952324,8.40827078419205,7.580189417944541,8.098034756176071,8.104703468371108,9.769155839740836,8.669914278433902,8.935640333747571,9.933386102881991,9.424967763522053,8.765146421639022,9.227295812625597,7.987524479848767,9.600827196903634,10.876139714076032,9.639587108749145,9.337853692275143,6.240275845170769,10.812975195790544,10.469426166355031,10.499820923406714,9.353921100453707,8.939843124278502,8.049427057110695,9.588228712314113,7.7226775164680035,7.473637108496206,9.140239744296693,8.183118079394745,7.890582534656536,5.641907070938114,4.867534450455582,4.709530201312334,4.584967478670572,4.51085950651685,4.584967478670572,4.6913478822291435,3.7376696182833684,4.30406509320417,4.6913478822291435,4.727387818712341,4.174387269895637,4.394449154672439,4.189654742026425,7.647786045440933,7.175489713624222,6.61338421837956,6.501289670540389,5.19295685089021,6.61338421837956,9.188605879830176,9.209840246934501,7.87777633327726,8.98682175033189,10.168425425507316,9.48440514846878,9.100190628475195,9.112286431500795,7.425357887027151,8.325306029752582,9.642317574624458,9.464905067965136,6.306275286948016,7.813187267521416,7.333676395657684,9.082961442646353,7.170888478512505,6.335054251498059,6.152732694704104,6.336825731146441,7.340186835320115,6.517671272912275,8.905851181208021,6.925595197110468,6.616065185132817,8.453827315794417,4.61512051684126,4.68213122712422,5.62040086571715,7.313886831633462,5.8888779583328805,5.049856007249537,5.932245187448011,6.293419278846481,6.461468176353717,4.867534450455582,4.912654885736052,7.77485576666552,4.584967478670572,6.45833828334479,5.993961427306569,5.429345628954441,6.863803391452954,6.946975992135418,6.904750769961838,9.09301972939964,7.247792581767846,10.02857716337495,6.962243464266207,8.093156697722637,6.424869023905388,5.998936561946683,7.575071699507561,4.852030263919617,4.6443908991413725,3.7612001156935624,6.669498089857879,5.673323267171493,5.4680601411351315,6.80128303447162,7.445417556701687,4.653960350157523,4.787491742782046,8.079308192051961,5.552959584921617,2.5649493574615367,6.761572768804055,6.556778356158042,7.066466970136958,5.209486152841421,5.3981627015177525,8.19891444498699,10.012297113393403,7.822845290279774,5.198497031265826,5.834810737062605,4.442651256490317,5.840641657373398,3.6635616461296463,5.303304908059076,3.7376696182833684,4.5217885770490405,3.4657359027997265,4.948759890378168,6.352629396319567,5.318119993844216,6.030685260261263,7.675081857716334,4.948759890378168,5.159055299214529,7.974188669286011,6.18826412308259,8.723231274827508,6.1092475827643655,8.675392806089782,6.236369590203704,7.725771441587952,5.0106352940962555,5.081404364984463,7.397561535524052,7.487733761436444,7.1808311990445555,5.476463551931511,8.175829008714597,5.916202062607435,6.161207321695077,5.442417710521793,6.293419278846481,6.447305862541213,7.380879035564116,6.444131256700441,5.2574953720277815,5.5053315359323625,5.631211781821365,4.700480365792417,4.882801922586371,5.955837369464831,5.921578419643816,3.912023005428146,3.6375861597263857,3.8501476017100584,6.608000625296087,4.343805421853684,4.727387818712341,3.5263605246161616,4.990432586778736,7.20414929203594,5.111987788356544,2.995732273553991,6.386879319362645,5.4680601411351315,5.049856007249537,5.159055299214529,4.007333185232471,7.457609289715606,4.90527477843843,2.70805020110221,5.497168225293202,6.99117688712121,4.844187086458591,5.0106352940962555,3.9318256327243257,3.4011973816621555,4.127134385045092,5.4638318050256105,5.298317366548036,4.61512051684126,4.3694478524670215,4.406719247264253,5.087596335232384,3.7376696182833684,6.1070228877422545,3.7376696182833684,5.19295685089021,8.268988209506656,6.5638555265321274,4.564348191467836,5.978885764901122,4.5217885770490405,6.267200548541362,6.311734809152915,9.562334377396374,6.917705609835305,5.356586274672012,8.086410275323782,5.093750200806762,8.023552392404348,7.788211557847076,5.327876168789581,5.407171771460119,6.498282149476434,4.23410650459726,7.214504414151143,6.295266001439646,5.41610040220442,5.14166355650266,4.189654742026425,5.187385805840755,5.480638923341991,5.7745515455444085,8.711113884053544,5.707110264748875,6.180016653652572,4.418840607796598,4.343805421853684,5.860786223465865,9.867342105899775,7.1049654482698426,10.086225689215299,6.703188113240863,4.9344739331306915,3.332204510175204,5.332718793265369,3.5553480614894135,4.248495242049359,5.176149732573829,5.442417710521793,3.5263605246161616,3.2188758248682006,3.4965075614664802,5.117993812416755,2.0794415416798357,4.007333185232471,3.4965075614664802,2.1972245773362196,3.8066624897703196,5.017279836814924,4.007333185232471,6.452048954437226,9.161045080251306,10.29620508782179,3.4011973816621555,7.0630481633881725,2.9444389791664403,2.4849066497880004,2.302585092994046,4.882801922586371,5.170483995038151,5.652489180268651,8.757469141470748,6.403574197934815,7.6093665379542115,3.6109179126442243,5.805134968916488,5.564520407322694,4.499809670330265,5.717027701406222,7.664346632098617],\"coloraxis\":\"coloraxis\",\"opacity\":0.7,\"size\":[11.388857721846707,1.0986122886681098,0.6931471805599453,9.089640586738398,9.54781210893048,9.667891793282678,9.100302266767246,8.908694592507015,9.631481959469355,9.453678630575912,9.672878705110646,9.423110302862831,9.505171826581176,8.961622569542543,8.813735892300215,8.062747901086354,9.269363712425644,7.473637108496206,9.019785010255125,9.229162126216771,9.765489054378838,8.997518369733845,8.533853632309345,9.581559041355757,8.996404301412886,8.980423936374544,8.92172453036431,8.524168805152662,8.97259066827261,9.506362568702965,9.275847174178303,7.226209010100671,8.737773460327283,9.26926943950547,9.831561812964539,8.693161274238017,9.672689782285058,9.813781639451635,8.872767529910936,9.213036733523925,8.568646473005153,7.346010209913293,8.302761580704049,7.480428306074208,8.734399150063695,8.853808274977197,8.898228985601227,8.499640032168648,8.60061479955531,8.101071503119543,9.233079858945672,8.559102594493448,8.771835409789817,9.068085324395312,8.344029572407049,8.743053050224676,9.049349685884057,8.552946361122055,7.7279755421055585,8.956737613177264,9.62238379544447,8.969796305981806,9.88644311792687,9.837775009170747,9.649369196922487,9.062188330952324,8.40827078419205,7.580189417944541,8.098034756176071,8.104703468371108,9.769155839740836,8.669914278433902,8.935640333747571,9.933386102881991,9.424967763522053,8.765146421639022,9.227295812625597,7.987524479848767,9.600827196903634,10.876139714076032,9.639587108749145,9.337853692275143,6.240275845170769,10.812975195790544,10.469426166355031,10.499820923406714,9.353921100453707,8.939843124278502,8.049427057110695,9.588228712314113,7.7226775164680035,7.473637108496206,9.140239744296693,8.183118079394745,7.890582534656536,5.641907070938114,4.867534450455582,4.709530201312334,4.584967478670572,4.51085950651685,4.584967478670572,4.6913478822291435,3.7376696182833684,4.30406509320417,4.6913478822291435,4.727387818712341,4.174387269895637,4.394449154672439,4.189654742026425,7.647786045440933,7.175489713624222,6.61338421837956,6.501289670540389,5.19295685089021,6.61338421837956,9.188605879830176,9.209840246934501,7.87777633327726,8.98682175033189,10.168425425507316,9.48440514846878,9.100190628475195,9.112286431500795,7.425357887027151,8.325306029752582,9.642317574624458,9.464905067965136,6.306275286948016,7.813187267521416,7.333676395657684,9.082961442646353,7.170888478512505,6.335054251498059,6.152732694704104,6.336825731146441,7.340186835320115,6.517671272912275,8.905851181208021,6.925595197110468,6.616065185132817,8.453827315794417,4.61512051684126,4.68213122712422,5.62040086571715,7.313886831633462,5.8888779583328805,5.049856007249537,5.932245187448011,6.293419278846481,6.461468176353717,4.867534450455582,4.912654885736052,7.77485576666552,4.584967478670572,6.45833828334479,5.993961427306569,5.429345628954441,6.863803391452954,6.946975992135418,6.904750769961838,9.09301972939964,7.247792581767846,10.02857716337495,6.962243464266207,8.093156697722637,6.424869023905388,5.998936561946683,7.575071699507561,4.852030263919617,4.6443908991413725,3.7612001156935624,6.669498089857879,5.673323267171493,5.4680601411351315,6.80128303447162,7.445417556701687,4.653960350157523,4.787491742782046,8.079308192051961,5.552959584921617,2.5649493574615367,6.761572768804055,6.556778356158042,7.066466970136958,5.209486152841421,5.3981627015177525,8.19891444498699,10.012297113393403,7.822845290279774,5.198497031265826,5.834810737062605,4.442651256490317,5.840641657373398,3.6635616461296463,5.303304908059076,3.7376696182833684,4.5217885770490405,3.4657359027997265,4.948759890378168,6.352629396319567,5.318119993844216,6.030685260261263,7.675081857716334,4.948759890378168,5.159055299214529,7.974188669286011,6.18826412308259,8.723231274827508,6.1092475827643655,8.675392806089782,6.236369590203704,7.725771441587952,5.0106352940962555,5.081404364984463,7.397561535524052,7.487733761436444,7.1808311990445555,5.476463551931511,8.175829008714597,5.916202062607435,6.161207321695077,5.442417710521793,6.293419278846481,6.447305862541213,7.380879035564116,6.444131256700441,5.2574953720277815,5.5053315359323625,5.631211781821365,4.700480365792417,4.882801922586371,5.955837369464831,5.921578419643816,3.912023005428146,3.6375861597263857,3.8501476017100584,6.608000625296087,4.343805421853684,4.727387818712341,3.5263605246161616,4.990432586778736,7.20414929203594,5.111987788356544,2.995732273553991,6.386879319362645,5.4680601411351315,5.049856007249537,5.159055299214529,4.007333185232471,7.457609289715606,4.90527477843843,2.70805020110221,5.497168225293202,6.99117688712121,4.844187086458591,5.0106352940962555,3.9318256327243257,3.4011973816621555,4.127134385045092,5.4638318050256105,5.298317366548036,4.61512051684126,4.3694478524670215,4.406719247264253,5.087596335232384,3.7376696182833684,6.1070228877422545,3.7376696182833684,5.19295685089021,8.268988209506656,6.5638555265321274,4.564348191467836,5.978885764901122,4.5217885770490405,6.267200548541362,6.311734809152915,9.562334377396374,6.917705609835305,5.356586274672012,8.086410275323782,5.093750200806762,8.023552392404348,7.788211557847076,5.327876168789581,5.407171771460119,6.498282149476434,4.23410650459726,7.214504414151143,6.295266001439646,5.41610040220442,5.14166355650266,4.189654742026425,5.187385805840755,5.480638923341991,5.7745515455444085,8.711113884053544,5.707110264748875,6.180016653652572,4.418840607796598,4.343805421853684,5.860786223465865,9.867342105899775,7.1049654482698426,10.086225689215299,6.703188113240863,4.9344739331306915,3.332204510175204,5.332718793265369,3.5553480614894135,4.248495242049359,5.176149732573829,5.442417710521793,3.5263605246161616,3.2188758248682006,3.4965075614664802,5.117993812416755,2.0794415416798357,4.007333185232471,3.4965075614664802,2.1972245773362196,3.8066624897703196,5.017279836814924,4.007333185232471,6.452048954437226,9.161045080251306,10.29620508782179,3.4011973816621555,7.0630481633881725,2.9444389791664403,2.4849066497880004,2.302585092994046,4.882801922586371,5.170483995038151,5.652489180268651,8.757469141470748,6.403574197934815,7.6093665379542115,3.6109179126442243,5.805134968916488,5.564520407322694,4.499809670330265,5.717027701406222,7.664346632098617],\"sizemode\":\"area\",\"sizeref\":0.11388857721846707},\"mode\":\"markers\",\"name\":\"\",\"showlegend\":false,\"subplot\":\"mapbox\",\"type\":\"scattermapbox\"}],                        {\"template\":{\"data\":{\"histogram2dcontour\":[{\"type\":\"histogram2dcontour\",\"colorbar\":{\"outlinewidth\":0,\"ticks\":\"\"},\"colorscale\":[[0.0,\"#0d0887\"],[0.1111111111111111,\"#46039f\"],[0.2222222222222222,\"#7201a8\"],[0.3333333333333333,\"#9c179e\"],[0.4444444444444444,\"#bd3786\"],[0.5555555555555556,\"#d8576b\"],[0.6666666666666666,\"#ed7953\"],[0.7777777777777778,\"#fb9f3a\"],[0.8888888888888888,\"#fdca26\"],[1.0,\"#f0f921\"]]}],\"choropleth\":[{\"type\":\"choropleth\",\"colorbar\":{\"outlinewidth\":0,\"ticks\":\"\"}}],\"histogram2d\":[{\"type\":\"histogram2d\",\"colorbar\":{\"outlinewidth\":0,\"ticks\":\"\"},\"colorscale\":[[0.0,\"#0d0887\"],[0.1111111111111111,\"#46039f\"],[0.2222222222222222,\"#7201a8\"],[0.3333333333333333,\"#9c179e\"],[0.4444444444444444,\"#bd3786\"],[0.5555555555555556,\"#d8576b\"],[0.6666666666666666,\"#ed7953\"],[0.7777777777777778,\"#fb9f3a\"],[0.8888888888888888,\"#fdca26\"],[1.0,\"#f0f921\"]]}],\"heatmap\":[{\"type\":\"heatmap\",\"colorbar\":{\"outlinewidth\":0,\"ticks\":\"\"},\"colorscale\":[[0.0,\"#0d0887\"],[0.1111111111111111,\"#46039f\"],[0.2222222222222222,\"#7201a8\"],[0.3333333333333333,\"#9c179e\"],[0.4444444444444444,\"#bd3786\"],[0.5555555555555556,\"#d8576b\"],[0.6666666666666666,\"#ed7953\"],[0.7777777777777778,\"#fb9f3a\"],[0.8888888888888888,\"#fdca26\"],[1.0,\"#f0f921\"]]}],\"heatmapgl\":[{\"type\":\"heatmapgl\",\"colorbar\":{\"outlinewidth\":0,\"ticks\":\"\"},\"colorscale\":[[0.0,\"#0d0887\"],[0.1111111111111111,\"#46039f\"],[0.2222222222222222,\"#7201a8\"],[0.3333333333333333,\"#9c179e\"],[0.4444444444444444,\"#bd3786\"],[0.5555555555555556,\"#d8576b\"],[0.6666666666666666,\"#ed7953\"],[0.7777777777777778,\"#fb9f3a\"],[0.8888888888888888,\"#fdca26\"],[1.0,\"#f0f921\"]]}],\"contourcarpet\":[{\"type\":\"contourcarpet\",\"colorbar\":{\"outlinewidth\":0,\"ticks\":\"\"}}],\"contour\":[{\"type\":\"contour\",\"colorbar\":{\"outlinewidth\":0,\"ticks\":\"\"},\"colorscale\":[[0.0,\"#0d0887\"],[0.1111111111111111,\"#46039f\"],[0.2222222222222222,\"#7201a8\"],[0.3333333333333333,\"#9c179e\"],[0.4444444444444444,\"#bd3786\"],[0.5555555555555556,\"#d8576b\"],[0.6666666666666666,\"#ed7953\"],[0.7777777777777778,\"#fb9f3a\"],[0.8888888888888888,\"#fdca26\"],[1.0,\"#f0f921\"]]}],\"surface\":[{\"type\":\"surface\",\"colorbar\":{\"outlinewidth\":0,\"ticks\":\"\"},\"colorscale\":[[0.0,\"#0d0887\"],[0.1111111111111111,\"#46039f\"],[0.2222222222222222,\"#7201a8\"],[0.3333333333333333,\"#9c179e\"],[0.4444444444444444,\"#bd3786\"],[0.5555555555555556,\"#d8576b\"],[0.6666666666666666,\"#ed7953\"],[0.7777777777777778,\"#fb9f3a\"],[0.8888888888888888,\"#fdca26\"],[1.0,\"#f0f921\"]]}],\"mesh3d\":[{\"type\":\"mesh3d\",\"colorbar\":{\"outlinewidth\":0,\"ticks\":\"\"}}],\"scatter\":[{\"fillpattern\":{\"fillmode\":\"overlay\",\"size\":10,\"solidity\":0.2},\"type\":\"scatter\"}],\"parcoords\":[{\"type\":\"parcoords\",\"line\":{\"colorbar\":{\"outlinewidth\":0,\"ticks\":\"\"}}}],\"scatterpolargl\":[{\"type\":\"scatterpolargl\",\"marker\":{\"colorbar\":{\"outlinewidth\":0,\"ticks\":\"\"}}}],\"bar\":[{\"error_x\":{\"color\":\"#2a3f5f\"},\"error_y\":{\"color\":\"#2a3f5f\"},\"marker\":{\"line\":{\"color\":\"#E5ECF6\",\"width\":0.5},\"pattern\":{\"fillmode\":\"overlay\",\"size\":10,\"solidity\":0.2}},\"type\":\"bar\"}],\"scattergeo\":[{\"type\":\"scattergeo\",\"marker\":{\"colorbar\":{\"outlinewidth\":0,\"ticks\":\"\"}}}],\"scatterpolar\":[{\"type\":\"scatterpolar\",\"marker\":{\"colorbar\":{\"outlinewidth\":0,\"ticks\":\"\"}}}],\"histogram\":[{\"marker\":{\"pattern\":{\"fillmode\":\"overlay\",\"size\":10,\"solidity\":0.2}},\"type\":\"histogram\"}],\"scattergl\":[{\"type\":\"scattergl\",\"marker\":{\"colorbar\":{\"outlinewidth\":0,\"ticks\":\"\"}}}],\"scatter3d\":[{\"type\":\"scatter3d\",\"line\":{\"colorbar\":{\"outlinewidth\":0,\"ticks\":\"\"}},\"marker\":{\"colorbar\":{\"outlinewidth\":0,\"ticks\":\"\"}}}],\"scattermapbox\":[{\"type\":\"scattermapbox\",\"marker\":{\"colorbar\":{\"outlinewidth\":0,\"ticks\":\"\"}}}],\"scatterternary\":[{\"type\":\"scatterternary\",\"marker\":{\"colorbar\":{\"outlinewidth\":0,\"ticks\":\"\"}}}],\"scattercarpet\":[{\"type\":\"scattercarpet\",\"marker\":{\"colorbar\":{\"outlinewidth\":0,\"ticks\":\"\"}}}],\"carpet\":[{\"aaxis\":{\"endlinecolor\":\"#2a3f5f\",\"gridcolor\":\"white\",\"linecolor\":\"white\",\"minorgridcolor\":\"white\",\"startlinecolor\":\"#2a3f5f\"},\"baxis\":{\"endlinecolor\":\"#2a3f5f\",\"gridcolor\":\"white\",\"linecolor\":\"white\",\"minorgridcolor\":\"white\",\"startlinecolor\":\"#2a3f5f\"},\"type\":\"carpet\"}],\"table\":[{\"cells\":{\"fill\":{\"color\":\"#EBF0F8\"},\"line\":{\"color\":\"white\"}},\"header\":{\"fill\":{\"color\":\"#C8D4E3\"},\"line\":{\"color\":\"white\"}},\"type\":\"table\"}],\"barpolar\":[{\"marker\":{\"line\":{\"color\":\"#E5ECF6\",\"width\":0.5},\"pattern\":{\"fillmode\":\"overlay\",\"size\":10,\"solidity\":0.2}},\"type\":\"barpolar\"}],\"pie\":[{\"automargin\":true,\"type\":\"pie\"}]},\"layout\":{\"autotypenumbers\":\"strict\",\"colorway\":[\"#636efa\",\"#EF553B\",\"#00cc96\",\"#ab63fa\",\"#FFA15A\",\"#19d3f3\",\"#FF6692\",\"#B6E880\",\"#FF97FF\",\"#FECB52\"],\"font\":{\"color\":\"#2a3f5f\"},\"hovermode\":\"closest\",\"hoverlabel\":{\"align\":\"left\"},\"paper_bgcolor\":\"white\",\"plot_bgcolor\":\"#E5ECF6\",\"polar\":{\"bgcolor\":\"#E5ECF6\",\"angularaxis\":{\"gridcolor\":\"white\",\"linecolor\":\"white\",\"ticks\":\"\"},\"radialaxis\":{\"gridcolor\":\"white\",\"linecolor\":\"white\",\"ticks\":\"\"}},\"ternary\":{\"bgcolor\":\"#E5ECF6\",\"aaxis\":{\"gridcolor\":\"white\",\"linecolor\":\"white\",\"ticks\":\"\"},\"baxis\":{\"gridcolor\":\"white\",\"linecolor\":\"white\",\"ticks\":\"\"},\"caxis\":{\"gridcolor\":\"white\",\"linecolor\":\"white\",\"ticks\":\"\"}},\"coloraxis\":{\"colorbar\":{\"outlinewidth\":0,\"ticks\":\"\"}},\"colorscale\":{\"sequential\":[[0.0,\"#0d0887\"],[0.1111111111111111,\"#46039f\"],[0.2222222222222222,\"#7201a8\"],[0.3333333333333333,\"#9c179e\"],[0.4444444444444444,\"#bd3786\"],[0.5555555555555556,\"#d8576b\"],[0.6666666666666666,\"#ed7953\"],[0.7777777777777778,\"#fb9f3a\"],[0.8888888888888888,\"#fdca26\"],[1.0,\"#f0f921\"]],\"sequentialminus\":[[0.0,\"#0d0887\"],[0.1111111111111111,\"#46039f\"],[0.2222222222222222,\"#7201a8\"],[0.3333333333333333,\"#9c179e\"],[0.4444444444444444,\"#bd3786\"],[0.5555555555555556,\"#d8576b\"],[0.6666666666666666,\"#ed7953\"],[0.7777777777777778,\"#fb9f3a\"],[0.8888888888888888,\"#fdca26\"],[1.0,\"#f0f921\"]],\"diverging\":[[0,\"#8e0152\"],[0.1,\"#c51b7d\"],[0.2,\"#de77ae\"],[0.3,\"#f1b6da\"],[0.4,\"#fde0ef\"],[0.5,\"#f7f7f7\"],[0.6,\"#e6f5d0\"],[0.7,\"#b8e186\"],[0.8,\"#7fbc41\"],[0.9,\"#4d9221\"],[1,\"#276419\"]]},\"xaxis\":{\"gridcolor\":\"white\",\"linecolor\":\"white\",\"ticks\":\"\",\"title\":{\"standoff\":15},\"zerolinecolor\":\"white\",\"automargin\":true,\"zerolinewidth\":2},\"yaxis\":{\"gridcolor\":\"white\",\"linecolor\":\"white\",\"ticks\":\"\",\"title\":{\"standoff\":15},\"zerolinecolor\":\"white\",\"automargin\":true,\"zerolinewidth\":2},\"scene\":{\"xaxis\":{\"backgroundcolor\":\"#E5ECF6\",\"gridcolor\":\"white\",\"linecolor\":\"white\",\"showbackground\":true,\"ticks\":\"\",\"zerolinecolor\":\"white\",\"gridwidth\":2},\"yaxis\":{\"backgroundcolor\":\"#E5ECF6\",\"gridcolor\":\"white\",\"linecolor\":\"white\",\"showbackground\":true,\"ticks\":\"\",\"zerolinecolor\":\"white\",\"gridwidth\":2},\"zaxis\":{\"backgroundcolor\":\"#E5ECF6\",\"gridcolor\":\"white\",\"linecolor\":\"white\",\"showbackground\":true,\"ticks\":\"\",\"zerolinecolor\":\"white\",\"gridwidth\":2}},\"shapedefaults\":{\"line\":{\"color\":\"#2a3f5f\"}},\"annotationdefaults\":{\"arrowcolor\":\"#2a3f5f\",\"arrowhead\":0,\"arrowwidth\":1},\"geo\":{\"bgcolor\":\"white\",\"landcolor\":\"#E5ECF6\",\"subunitcolor\":\"white\",\"showland\":true,\"showlakes\":true,\"lakecolor\":\"white\"},\"title\":{\"x\":0.05},\"mapbox\":{\"style\":\"light\"}}},\"mapbox\":{\"domain\":{\"x\":[0.0,1.0],\"y\":[0.0,1.0]},\"center\":{\"lat\":-34.40399250408163,\"lon\":138.50387089650144},\"zoom\":5,\"style\":\"carto-positron\"},\"coloraxis\":{\"colorbar\":{\"title\":{\"text\":\"Log crimes\"}},\"colorscale\":[[0.0,\"#000004\"],[0.1111111111111111,\"#1b0c41\"],[0.2222222222222222,\"#4a0c6b\"],[0.3333333333333333,\"#781c6d\"],[0.4444444444444444,\"#a52c60\"],[0.5555555555555556,\"#cf4446\"],[0.6666666666666666,\"#ed6925\"],[0.7777777777777778,\"#fb9b06\"],[0.8888888888888888,\"#f7d13d\"],[1.0,\"#fcffa4\"]]},\"legend\":{\"tracegroupgap\":0,\"itemsizing\":\"constant\"},\"margin\":{\"t\":60},\"height\":850,\"width\":1000},                        {\"responsive\": true}                    ).then(function(){\n",
       "                            \n",
       "var gd = document.getElementById('a84ab246-39a2-4309-a28a-5004f386abc7');\n",
       "var x = new MutationObserver(function (mutations, observer) {{\n",
       "        var display = window.getComputedStyle(gd).display;\n",
       "        if (!display || display === 'none') {{\n",
       "            console.log([gd, 'removed!']);\n",
       "            Plotly.purge(gd);\n",
       "            observer.disconnect();\n",
       "        }}\n",
       "}});\n",
       "\n",
       "// Listen for the removal of the full notebook cells\n",
       "var notebookContainer = gd.closest('#notebook-container');\n",
       "if (notebookContainer) {{\n",
       "    x.observe(notebookContainer, {childList: true});\n",
       "}}\n",
       "\n",
       "// Listen for the clearing of the current output cell\n",
       "var outputEl = gd.closest('.output');\n",
       "if (outputEl) {{\n",
       "    x.observe(outputEl, {childList: true});\n",
       "}}\n",
       "\n",
       "                        })                };                });            </script>        </div>"
      ]
     },
     "metadata": {},
     "output_type": "display_data"
    }
   ],
   "source": [
    "#Map zoom for SA\n",
    "map_function_spread(crime_db_SA,'lat','long','Postcode - Incident','Offence count',zoom=5,type_map =\"carto-positron\")"
   ]
  },
  {
   "cell_type": "markdown",
   "id": "3d0159fe-a640-4110-9833-f80d1128b2a3",
   "metadata": {},
   "source": [
    "## Load Areas in km2 for SA postcodes to measure their size"
   ]
  },
  {
   "cell_type": "code",
   "execution_count": 29,
   "id": "31cf0ef2-b407-41e0-be1f-ddf20772638e",
   "metadata": {},
   "outputs": [
    {
     "data": {
      "text/plain": [
       "(1894, 8)"
      ]
     },
     "execution_count": 29,
     "metadata": {},
     "output_type": "execute_result"
    }
   ],
   "source": [
    "area_file_SA = gpd.read_file(path+'Suburbs_shp//'+'Suburbs_GDA2020.shp')\n",
    "area_file_SA['Area_km2'] = area_for_coordenates(area_file_SA,'geometry')\n",
    "area_file_SA['postcode'] = area_file_SA['postcode'].astype(int)\n",
    "area_file_SA.shape"
   ]
  },
  {
   "cell_type": "code",
   "execution_count": 30,
   "id": "86dd4160-8fd9-492a-9d45-cc53ac2bdd57",
   "metadata": {},
   "outputs": [
    {
     "data": {
      "text/plain": [
       "(783844, 8)"
      ]
     },
     "execution_count": 30,
     "metadata": {},
     "output_type": "execute_result"
    }
   ],
   "source": [
    "#Group data by postal code by suburb and merge it with the crime data set\n",
    "area_file_SA_gp = area_file_SA.groupby(['postcode'])['Area_km2'].sum().reset_index()\n",
    "crime_db_SA_ar = crime_db_SA.merge(area_file_SA_gp,how='left',\n",
    "                                                  left_on='Postcode - Incident', right_on='postcode').drop(columns = ['postcode'])\n",
    "\n",
    "crime_db_SA_ar.shape"
   ]
  },
  {
   "cell_type": "code",
   "execution_count": 31,
   "id": "c8bb5d4d-84e8-4e23-a4cf-56a1b78f7a64",
   "metadata": {},
   "outputs": [
    {
     "data": {
      "text/html": [
       "<div>\n",
       "<style scoped>\n",
       "    .dataframe tbody tr th:only-of-type {\n",
       "        vertical-align: middle;\n",
       "    }\n",
       "\n",
       "    .dataframe tbody tr th {\n",
       "        vertical-align: top;\n",
       "    }\n",
       "\n",
       "    .dataframe thead th {\n",
       "        text-align: right;\n",
       "    }\n",
       "</style>\n",
       "<table border=\"1\" class=\"dataframe\">\n",
       "  <thead>\n",
       "    <tr style=\"text-align: right;\">\n",
       "      <th></th>\n",
       "      <th>Reported Date</th>\n",
       "      <th>Postcode - Incident</th>\n",
       "      <th>state</th>\n",
       "      <th>lat</th>\n",
       "      <th>long</th>\n",
       "      <th>Type_crime</th>\n",
       "      <th>Offence count</th>\n",
       "      <th>Area_km2</th>\n",
       "    </tr>\n",
       "  </thead>\n",
       "  <tbody>\n",
       "    <tr>\n",
       "      <th>536137</th>\n",
       "      <td>2019-10-01</td>\n",
       "      <td>5005</td>\n",
       "      <td>SA</td>\n",
       "      <td>-34.919398</td>\n",
       "      <td>138.603510</td>\n",
       "      <td>Theft</td>\n",
       "      <td>1.0</td>\n",
       "      <td>NaN</td>\n",
       "    </tr>\n",
       "    <tr>\n",
       "      <th>555842</th>\n",
       "      <td>2020-01-29</td>\n",
       "      <td>5001</td>\n",
       "      <td>SA</td>\n",
       "      <td>-34.928499</td>\n",
       "      <td>138.600746</td>\n",
       "      <td>Theft</td>\n",
       "      <td>1.0</td>\n",
       "      <td>NaN</td>\n",
       "    </tr>\n",
       "    <tr>\n",
       "      <th>570354</th>\n",
       "      <td>2020-05-04</td>\n",
       "      <td>5001</td>\n",
       "      <td>SA</td>\n",
       "      <td>-34.928499</td>\n",
       "      <td>138.600746</td>\n",
       "      <td>Fraud</td>\n",
       "      <td>1.0</td>\n",
       "      <td>NaN</td>\n",
       "    </tr>\n",
       "  </tbody>\n",
       "</table>\n",
       "</div>"
      ],
      "text/plain": [
       "       Reported Date  Postcode - Incident state        lat        long  \\\n",
       "536137    2019-10-01                 5005    SA -34.919398  138.603510   \n",
       "555842    2020-01-29                 5001    SA -34.928499  138.600746   \n",
       "570354    2020-05-04                 5001    SA -34.928499  138.600746   \n",
       "\n",
       "       Type_crime  Offence count  Area_km2  \n",
       "536137      Theft            1.0       NaN  \n",
       "555842      Theft            1.0       NaN  \n",
       "570354      Fraud            1.0       NaN  "
      ]
     },
     "execution_count": 31,
     "metadata": {},
     "output_type": "execute_result"
    }
   ],
   "source": [
    "crime_db_SA_ar[crime_db_SA_ar['Area_km2'].isnull()]"
   ]
  },
  {
   "cell_type": "code",
   "execution_count": 32,
   "id": "56a6d521-39c0-4420-a28c-a0ef13a90f15",
   "metadata": {},
   "outputs": [],
   "source": [
    "#These postcodes are no longer valid since nowadays they are considered within the 5000 postcode by the post office,\n",
    "#hence these postcodes will be assigned the data for postcode 5000\n",
    "\n",
    "crime_db_SA_ar['Postcode - Incident'] = np.where(crime_db_SA_ar['Area_km2'].isnull(),5000,crime_db_SA_ar['Postcode - Incident'])\n",
    "crime_db_SA_ar['long'] = np.where(crime_db_SA_ar['Area_km2'].isnull(),crime_db_SA_ar[crime_db_SA_ar['Postcode - Incident']==5000].iloc[0]['long']\n",
    "                               ,crime_db_SA_ar['long'])\n",
    "crime_db_SA_ar['lat'] = np.where(crime_db_SA_ar['Area_km2'].isnull(),crime_db_SA_ar[crime_db_SA_ar['Postcode - Incident']==5000].iloc[0]['lat']\n",
    "                              ,crime_db_SA_ar['lat'])\n",
    "crime_db_SA_ar['Area_km2'] = np.where(crime_db_SA_ar['Area_km2'].isnull(),\n",
    "                                   crime_db_SA_ar[crime_db_SA_ar['Postcode - Incident']==5000].iloc[0]['Area_km2'],crime_db_SA_ar['Area_km2'])\n"
   ]
  },
  {
   "cell_type": "code",
   "execution_count": 33,
   "id": "2b195b93-e65d-466e-9fa3-32bd50d4a858",
   "metadata": {},
   "outputs": [
    {
     "data": {
      "text/plain": [
       "(783842, 8)"
      ]
     },
     "execution_count": 33,
     "metadata": {},
     "output_type": "execute_result"
    }
   ],
   "source": [
    "crime_db_SA_ar = crime_db_SA_ar.groupby(['Reported Date', 'Postcode - Incident','state','lat','long'\n",
    "                                         ,'Type_crime','Area_km2'])['Offence count'].sum().reset_index()\n",
    "crime_db_SA_ar.shape"
   ]
  },
  {
   "cell_type": "markdown",
   "id": "f3d367c6-b551-46f8-a58e-3b6b4a281b23",
   "metadata": {},
   "source": [
    "## Add new variable distance from city center"
   ]
  },
  {
   "cell_type": "markdown",
   "id": "629fd35c-5ac8-47f6-96b2-9f5da3cc8ce3",
   "metadata": {},
   "source": [
    "In the map plot for SA zoom, it can be noticed that most of the crimes are concentrated within Adelaide. Hence a proposed variable is the distance from the postcode with the highest crime numbers in Adelaide"
   ]
  },
  {
   "cell_type": "code",
   "execution_count": 34,
   "id": "d39e8254-2c4c-4c3d-afc8-306027963590",
   "metadata": {},
   "outputs": [
    {
     "data": {
      "text/html": [
       "<div>\n",
       "<style scoped>\n",
       "    .dataframe tbody tr th:only-of-type {\n",
       "        vertical-align: middle;\n",
       "    }\n",
       "\n",
       "    .dataframe tbody tr th {\n",
       "        vertical-align: top;\n",
       "    }\n",
       "\n",
       "    .dataframe thead th {\n",
       "        text-align: right;\n",
       "    }\n",
       "</style>\n",
       "<table border=\"1\" class=\"dataframe\">\n",
       "  <thead>\n",
       "    <tr style=\"text-align: right;\">\n",
       "      <th></th>\n",
       "      <th>Postcode - Incident</th>\n",
       "      <th>Offence count</th>\n",
       "    </tr>\n",
       "  </thead>\n",
       "  <tbody>\n",
       "    <tr>\n",
       "      <th>0</th>\n",
       "      <td>5000</td>\n",
       "      <td>88334.0</td>\n",
       "    </tr>\n",
       "  </tbody>\n",
       "</table>\n",
       "</div>"
      ],
      "text/plain": [
       "   Postcode - Incident  Offence count\n",
       "0                 5000        88334.0"
      ]
     },
     "execution_count": 34,
     "metadata": {},
     "output_type": "execute_result"
    }
   ],
   "source": [
    "cp_max = crime_db_SA_ar.groupby(['Postcode - Incident'\n",
    "                       ])['Offence count'].sum().reset_index()\n",
    "cp_max[cp_max['Offence count']==cp_max['Offence count'].max()]"
   ]
  },
  {
   "cell_type": "markdown",
   "id": "f58e6f15-ba13-48d4-8be2-72b9adccef8f",
   "metadata": {},
   "source": [
    "The Adelaide city centre (postcode 5000) has the most concentration of crimes. Hence the distance from this point will be calculated as a new variable"
   ]
  },
  {
   "cell_type": "code",
   "execution_count": 35,
   "id": "d86a3ace-86b0-4109-ba13-df4abf17fc09",
   "metadata": {},
   "outputs": [
    {
     "data": {
      "text/plain": [
       "(-34.92849902, 138.600746)"
      ]
     },
     "execution_count": 35,
     "metadata": {},
     "output_type": "execute_result"
    }
   ],
   "source": [
    "lat_centre = crime_db_SA_ar[crime_db_SA_ar['Postcode - Incident']==5000].iloc[0]['lat']\n",
    "long_centre = crime_db_SA_ar[crime_db_SA_ar['Postcode - Incident']==5000].iloc[0]['long']\n",
    "centre = (lat_centre,long_centre)\n",
    "centre"
   ]
  },
  {
   "cell_type": "code",
   "execution_count": 36,
   "id": "b0cd1571-2566-4e89-9a50-d5b6f38ea7c9",
   "metadata": {},
   "outputs": [
    {
     "data": {
      "text/plain": [
       "(783842, 9)"
      ]
     },
     "execution_count": 36,
     "metadata": {},
     "output_type": "execute_result"
    }
   ],
   "source": [
    "#Single suburbs\n",
    "unique_postcodes = crime_db_SA_ar.groupby(['Postcode - Incident','lat','long','Area_km2'])['Offence count'].sum().reset_index()\n",
    "unique_postcodes['Distance_center_km'] = [distance_coordinates(centre,(lat,lon)) \n",
    "                                          for lat,lon in zip(unique_postcodes['lat'],unique_postcodes['long'])]\n",
    "\n",
    "crime_db_SA_ar = crime_db_SA_ar.merge(unique_postcodes[['Postcode - Incident','Distance_center_km']],\n",
    "                                      on = 'Postcode - Incident',how = 'left')\n",
    "\n",
    "crime_db_SA_ar.shape"
   ]
  },
  {
   "cell_type": "markdown",
   "id": "d9e8060f-8e35-404b-95e0-ac0f2b5b3524",
   "metadata": {},
   "source": [
    "## Add new variable population by postcode"
   ]
  },
  {
   "cell_type": "code",
   "execution_count": 37,
   "id": "0991c6bb-f488-4d8a-a17d-f142ef0a6955",
   "metadata": {},
   "outputs": [
    {
     "name": "stdout",
     "output_type": "stream",
     "text": [
      "Total population in SA for the most recent snapshot at 2023-9 : 1860054\n"
     ]
    }
   ],
   "source": [
    "#Load population\n",
    "pop_db = pd.read_excel(path+'Population - states and territories.xlsx',\n",
    "                  engine = 'openpyxl',sheet_name='Data1')\n",
    "\n",
    "pop_db = pop_db.rename(columns={\"Unnamed: 0\": \"Date\",\n",
    "                                \"Estimated Resident Population ;  Persons ;  South Australia ;\":\"Pop_SA\"})\n",
    "pop_db = pop_db.iloc[9:][['Date','Pop_SA']]\n",
    "pop_db.tail(5)\n",
    "\n",
    "tot_pop_sa = pop_db.iloc[-1]['Pop_SA']\n",
    "print('Total population in SA for the most recent snapshot at '+ \n",
    "str(pop_db.iloc[-1]['Date'].year)+'-'+str(pop_db.iloc[-1]['Date'].month)\n",
    ",':',tot_pop_sa)"
   ]
  },
  {
   "cell_type": "markdown",
   "id": "65d0ad60-0c16-4322-a11f-7a6db80a9824",
   "metadata": {},
   "source": [
    "The total population is only available at state level, we can approximate the population at postcode considering the following factor $k$\n",
    "\n",
    "$k_i = \\frac{log(Area_i)}{1+.5(Distance_{i})} $\n",
    "\n",
    "where:\n",
    "\n",
    "* $Area_i$ = Area of the i-th postcode in km2 \n",
    "* $Distance_i$ = Distance from the Adelaide city center in km for the i-th postcode\n",
    "\n",
    "The previous factor increases when the postcode's area is big but decreases at the same time if the posctode is far away from the city centre.\n",
    "This is based on the assumption that most population is concentrated in the city centre and big areas\n",
    "\n",
    "Then, weights for each postcode can be computed as:\n",
    "\n",
    "$ w_i = \\frac{k_i}{\\sum_{i=1}^{n} k_i}$\n",
    "where the sum of all weights is equal to 1\n",
    "\n",
    "Finally, an approximation for the population in a respective postcode can be computed as:\n",
    "\n",
    "$Population_{Total}*w_i$\n",
    "\n",
    "Altough the approximation may not be the actual people living in a giving postcode, what only matters for the analysis is the difference in size population among the different postcodes considering two factors, their size and the distance from the city centre"
   ]
  },
  {
   "cell_type": "code",
   "execution_count": 38,
   "id": "a7558488-1afb-4ff1-927e-0d2f1b40c7a9",
   "metadata": {},
   "outputs": [],
   "source": [
    "# Variable creation for population in postcode\n",
    "unique_postcodes['Tot_pop'] = tot_pop_sa\n",
    "\n",
    "unique_postcodes['Ki'] = [(math.log(area_i)/(1+.5*distance_i)) for area_i,\n",
    "                          distance_i in zip(unique_postcodes['Area_km2'],unique_postcodes['Distance_center_km'])]\n",
    "ki_tot = sum(unique_postcodes['Ki'] )\n",
    "unique_postcodes['wi'] = unique_postcodes['Ki']/ki_tot\n",
    "unique_postcodes['Population_e'] = unique_postcodes['wi']*tot_pop_sa"
   ]
  },
  {
   "cell_type": "code",
   "execution_count": 39,
   "id": "ef3cf7fb-156a-4853-aecc-4fd3d90050c9",
   "metadata": {},
   "outputs": [
    {
     "data": {
      "text/plain": [
       "(783842, 10)"
      ]
     },
     "execution_count": 39,
     "metadata": {},
     "output_type": "execute_result"
    }
   ],
   "source": [
    "# Add population variable to the crimes set\n",
    "crime_db_SA_pop = crime_db_SA_ar.merge(unique_postcodes[['Postcode - Incident','Population_e']],\n",
    "                                      on = 'Postcode - Incident',how = 'left')\n",
    "crime_db_SA_pop.shape"
   ]
  },
  {
   "cell_type": "markdown",
   "id": "e7f8c64e-37ab-491f-b82e-9ad8e8b27ed4",
   "metadata": {},
   "source": [
    "## Add new variable number of rentals by postcode"
   ]
  },
  {
   "cell_type": "code",
   "execution_count": 40,
   "id": "a54df77a-206e-4240-8419-21f26fcb3665",
   "metadata": {},
   "outputs": [],
   "source": [
    "#Load private properties rental data\n",
    "rental_db = pd.read_excel(path+'private-rental-report-2023-12.xlsx',\n",
    "                  engine = 'openpyxl',sheet_name='PC')\n",
    "\n",
    "rental_db = rental_db.rename(columns={\"Unnamed: 0\": \"postcode\",\"Unnamed: 29\":'Priv_Rent'})\n",
    "rental_db = rental_db.iloc[15:][['postcode','Priv_Rent']]\n",
    "rental_db = rental_db[~rental_db['postcode'].isin(['Metro','Metro Total','Country','Country Total','Grand Total'])]\n",
    "rental_db= rental_db[~(rental_db['Priv_Rent']=='*')]\n",
    "rental_db['Priv_Rent'] = rental_db['Priv_Rent'].astype(int)\n",
    "rental_db['postcode'] = rental_db['postcode'].astype(int)"
   ]
  },
  {
   "cell_type": "code",
   "execution_count": 41,
   "id": "f6dbe906-30f0-444c-9233-3827b119e0cb",
   "metadata": {},
   "outputs": [
    {
     "data": {
      "text/plain": [
       "(783842, 11)"
      ]
     },
     "execution_count": 41,
     "metadata": {},
     "output_type": "execute_result"
    }
   ],
   "source": [
    "# Add population variable to the crimes set\n",
    "crime_db_SA_rent = crime_db_SA_pop.merge(rental_db[['postcode','Priv_Rent']], left_on = 'Postcode - Incident'\n",
    "                                         ,right_on = 'postcode',how = 'left').drop(columns = ['postcode'])\n",
    "\n",
    "crime_db_SA_rent['Priv_Rent'] = np.where(crime_db_SA_rent['Priv_Rent'].isnull(),0,crime_db_SA_rent['Priv_Rent'])\n",
    "crime_db_SA_rent.rename(columns={\"Postcode - Incident\": \"Postcode\"},inplace=True)\n",
    "\n",
    "crime_db_SA_rent.shape"
   ]
  },
  {
   "cell_type": "markdown",
   "id": "e2a42d94-8258-4ed7-8ea0-4da73aff9955",
   "metadata": {},
   "source": [
    "## Final dataset"
   ]
  },
  {
   "cell_type": "code",
   "execution_count": 36,
   "id": "db9f18b8-80bd-4673-8a95-ec2922d9f2b1",
   "metadata": {},
   "outputs": [],
   "source": [
    "#Unique postcodes\n",
    "crime_db_vf = crime_db_SA_rent.groupby(['Postcode','lat','long','Area_km2',\n",
    "'Distance_center_km','Population_e','Priv_Rent'])['Offence count'].sum().reset_index().drop(columns = ['Offence count'])"
   ]
  },
  {
   "cell_type": "code",
   "execution_count": 37,
   "id": "0bb65953-f2a4-41a3-bb44-a6303a9e7f68",
   "metadata": {},
   "outputs": [],
   "source": [
    "#Create variables for type of crime at postcode level\n",
    "type_crime_db = pd.pivot_table(crime_db_SA_rent, values='Offence count', index='Postcode',\n",
    "                       columns='Type_crime', aggfunc=\"sum\",margins=True).reset_index()\n",
    "type_crime_db.rename(columns={\"Fraud\":\"Count_Fraud\",\"Murder\":\"Count_Murder\",\n",
    "                              \"Other_offences\":\"Count_Other_offences\",\"Prop_Damage\":\"Count_Prop_Damage\",\n",
    "                              \"Theft\":\"Count_Theft\",\"All\":\"Count_All_crimes\"},inplace=True)\n",
    "\n",
    "type_crime_db = type_crime_db.fillna(0)\n",
    "#type_crime_db.tail()"
   ]
  },
  {
   "cell_type": "code",
   "execution_count": 38,
   "id": "d1b18b7a-13cb-4ccb-9a45-2fd42329caba",
   "metadata": {},
   "outputs": [
    {
     "data": {
      "text/plain": [
       "(341, 13)"
      ]
     },
     "execution_count": 38,
     "metadata": {},
     "output_type": "execute_result"
    }
   ],
   "source": [
    "#merge with unique postcodes db\n",
    "crime_db_vf = crime_db_vf.merge(type_crime_db, on = 'Postcode',how = 'left')\n",
    "crime_db_vf.shape"
   ]
  },
  {
   "cell_type": "code",
   "execution_count": 39,
   "id": "87c7cefc-23ed-4838-8097-909425bda1a7",
   "metadata": {},
   "outputs": [
    {
     "data": {
      "text/html": [
       "<div>\n",
       "<style scoped>\n",
       "    .dataframe tbody tr th:only-of-type {\n",
       "        vertical-align: middle;\n",
       "    }\n",
       "\n",
       "    .dataframe tbody tr th {\n",
       "        vertical-align: top;\n",
       "    }\n",
       "\n",
       "    .dataframe thead th {\n",
       "        text-align: right;\n",
       "    }\n",
       "</style>\n",
       "<table border=\"1\" class=\"dataframe\">\n",
       "  <thead>\n",
       "    <tr style=\"text-align: right;\">\n",
       "      <th></th>\n",
       "      <th>Postcode</th>\n",
       "      <th>lat</th>\n",
       "      <th>long</th>\n",
       "      <th>Area_km2</th>\n",
       "      <th>Distance_center_km</th>\n",
       "      <th>Population_e</th>\n",
       "      <th>Priv_Rent</th>\n",
       "      <th>Count_Fraud</th>\n",
       "      <th>Count_Murder</th>\n",
       "      <th>Count_Other_offences</th>\n",
       "      <th>Count_Prop_Damage</th>\n",
       "      <th>Count_Theft</th>\n",
       "      <th>Count_All_crimes</th>\n",
       "    </tr>\n",
       "  </thead>\n",
       "  <tbody>\n",
       "    <tr>\n",
       "      <th>0</th>\n",
       "      <td>5000</td>\n",
       "      <td>-34.928499</td>\n",
       "      <td>138.600746</td>\n",
       "      <td>10.411954</td>\n",
       "      <td>0.000000</td>\n",
       "      <td>68488.515577</td>\n",
       "      <td>1110.0</td>\n",
       "      <td>4019.0</td>\n",
       "      <td>26.0</td>\n",
       "      <td>3515.0</td>\n",
       "      <td>16891.0</td>\n",
       "      <td>63883.0</td>\n",
       "      <td>88334.0</td>\n",
       "    </tr>\n",
       "    <tr>\n",
       "      <th>1</th>\n",
       "      <td>5006</td>\n",
       "      <td>-34.911523</td>\n",
       "      <td>138.584497</td>\n",
       "      <td>5.109472</td>\n",
       "      <td>2.398211</td>\n",
       "      <td>21681.401469</td>\n",
       "      <td>110.0</td>\n",
       "      <td>260.0</td>\n",
       "      <td>1.0</td>\n",
       "      <td>292.0</td>\n",
       "      <td>2661.0</td>\n",
       "      <td>5648.0</td>\n",
       "      <td>8862.0</td>\n",
       "    </tr>\n",
       "    <tr>\n",
       "      <th>2</th>\n",
       "      <td>5007</td>\n",
       "      <td>-34.903259</td>\n",
       "      <td>138.567870</td>\n",
       "      <td>3.604940</td>\n",
       "      <td>4.106841</td>\n",
       "      <td>12276.050693</td>\n",
       "      <td>140.0</td>\n",
       "      <td>354.0</td>\n",
       "      <td>3.0</td>\n",
       "      <td>309.0</td>\n",
       "      <td>4632.0</td>\n",
       "      <td>8715.0</td>\n",
       "      <td>14013.0</td>\n",
       "    </tr>\n",
       "    <tr>\n",
       "      <th>3</th>\n",
       "      <td>5008</td>\n",
       "      <td>-34.887511</td>\n",
       "      <td>138.559407</td>\n",
       "      <td>6.226371</td>\n",
       "      <td>5.911840</td>\n",
       "      <td>13513.601696</td>\n",
       "      <td>105.0</td>\n",
       "      <td>384.0</td>\n",
       "      <td>4.0</td>\n",
       "      <td>406.0</td>\n",
       "      <td>5604.0</td>\n",
       "      <td>9403.0</td>\n",
       "      <td>15801.0</td>\n",
       "    </tr>\n",
       "    <tr>\n",
       "      <th>4</th>\n",
       "      <td>5009</td>\n",
       "      <td>-34.896906</td>\n",
       "      <td>138.542493</td>\n",
       "      <td>3.426849</td>\n",
       "      <td>6.373652</td>\n",
       "      <td>8599.104722</td>\n",
       "      <td>35.0</td>\n",
       "      <td>443.0</td>\n",
       "      <td>2.0</td>\n",
       "      <td>196.0</td>\n",
       "      <td>2360.0</td>\n",
       "      <td>5956.0</td>\n",
       "      <td>8957.0</td>\n",
       "    </tr>\n",
       "  </tbody>\n",
       "</table>\n",
       "</div>"
      ],
      "text/plain": [
       "  Postcode        lat        long   Area_km2  Distance_center_km  \\\n",
       "0     5000 -34.928499  138.600746  10.411954            0.000000   \n",
       "1     5006 -34.911523  138.584497   5.109472            2.398211   \n",
       "2     5007 -34.903259  138.567870   3.604940            4.106841   \n",
       "3     5008 -34.887511  138.559407   6.226371            5.911840   \n",
       "4     5009 -34.896906  138.542493   3.426849            6.373652   \n",
       "\n",
       "   Population_e  Priv_Rent  Count_Fraud  Count_Murder  Count_Other_offences  \\\n",
       "0  68488.515577     1110.0       4019.0          26.0                3515.0   \n",
       "1  21681.401469      110.0        260.0           1.0                 292.0   \n",
       "2  12276.050693      140.0        354.0           3.0                 309.0   \n",
       "3  13513.601696      105.0        384.0           4.0                 406.0   \n",
       "4   8599.104722       35.0        443.0           2.0                 196.0   \n",
       "\n",
       "   Count_Prop_Damage  Count_Theft  Count_All_crimes  \n",
       "0            16891.0      63883.0           88334.0  \n",
       "1             2661.0       5648.0            8862.0  \n",
       "2             4632.0       8715.0           14013.0  \n",
       "3             5604.0       9403.0           15801.0  \n",
       "4             2360.0       5956.0            8957.0  "
      ]
     },
     "execution_count": 39,
     "metadata": {},
     "output_type": "execute_result"
    }
   ],
   "source": [
    "crime_db_vf.head(5)"
   ]
  },
  {
   "cell_type": "code",
   "execution_count": 40,
   "id": "202996db-49ba-4a8c-82d0-4435b2ba0415",
   "metadata": {},
   "outputs": [],
   "source": [
    "# Save as pickle format the final db\n",
    "with open(path+'Crime_datasets_vf.pkl', 'wb') as f:\n",
    "    pickle.dump(crime_db_vf, f)\n",
    "    f.close()"
   ]
  }
 ],
 "metadata": {
  "kernelspec": {
   "display_name": "Python 3 (ipykernel)",
   "language": "python",
   "name": "python3"
  },
  "language_info": {
   "codemirror_mode": {
    "name": "ipython",
    "version": 3
   },
   "file_extension": ".py",
   "mimetype": "text/x-python",
   "name": "python",
   "nbconvert_exporter": "python",
   "pygments_lexer": "ipython3",
   "version": "3.11.7"
  }
 },
 "nbformat": 4,
 "nbformat_minor": 5
}
