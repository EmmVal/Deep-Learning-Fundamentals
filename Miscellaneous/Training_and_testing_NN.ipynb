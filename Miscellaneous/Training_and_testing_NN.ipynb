{
 "cells": [
  {
   "cell_type": "markdown",
   "id": "b4a10873-8a4b-4dbe-8136-5f9f6bb5c72a",
   "metadata": {},
   "source": [
    "# Training and Testing Neural Networks"
   ]
  },
  {
   "cell_type": "code",
   "execution_count": 12,
   "id": "d8433e90-5e25-44bf-85ee-9080117a4eb9",
   "metadata": {},
   "outputs": [],
   "source": [
    "import torch\n",
    "import numpy as np"
   ]
  },
  {
   "cell_type": "markdown",
   "id": "bdacdcd4-93e5-43df-ae24-bb839aa93f04",
   "metadata": {},
   "source": [
    "## Load Data"
   ]
  },
  {
   "cell_type": "code",
   "execution_count": 3,
   "id": "39aaa31f-3d33-44e0-954b-402e12dbedbb",
   "metadata": {},
   "outputs": [],
   "source": [
    "from torch.utils.data import Dataset, DataLoader"
   ]
  },
  {
   "cell_type": "code",
   "execution_count": null,
   "id": "26b6bb26-783c-4480-8509-6db267f7a184",
   "metadata": {},
   "outputs": [],
   "source": [
    "class MyDataset(Dataset):\n",
    "    def __init__(self,file):\n",
    "        self.data = .. #Read data & preprocess\n",
    "    def __getitem__(self,index):\n",
    "        return self.data[index] #Returns one sample at a time\n",
    "    def __len__(self):\n",
    "        return len(self.data) #Returns the size of the dataset"
   ]
  },
  {
   "cell_type": "code",
   "execution_count": null,
   "id": "2dfca6eb-20c6-4a86-b2e2-d1eace8a5f47",
   "metadata": {},
   "outputs": [],
   "source": [
    "dataset = MyDataset(file)\n",
    "dataloader = DataLoader(dataset, batch_size = 5, shuffle= False)"
   ]
  },
  {
   "cell_type": "markdown",
   "id": "08641d21-85b7-481d-8fc0-56c3412d75f0",
   "metadata": {},
   "source": [
    "### Tensors"
   ]
  },
  {
   "cell_type": "markdown",
   "id": "0ad0d7f1-0d36-49ed-91bc-e8a38abf502e",
   "metadata": {},
   "source": [
    "#### Creating tensors"
   ]
  },
  {
   "cell_type": "code",
   "execution_count": 13,
   "id": "50c94035-a02e-4772-8c3b-de71130f3d8e",
   "metadata": {},
   "outputs": [],
   "source": [
    "data = [[1,-1],[-1,1]]\n",
    "x = torch.tensor(data)\n",
    "x = torch.from_numpy(np.array(data))"
   ]
  },
  {
   "cell_type": "code",
   "execution_count": 27,
   "id": "4e7ae6ea-6bae-4d31-9422-e84bf4ef4804",
   "metadata": {},
   "outputs": [
    {
     "name": "stdout",
     "output_type": "stream",
     "text": [
      "torch.Size([2, 5])\n",
      "torch.Size([2, 5, 4])\n"
     ]
    }
   ],
   "source": [
    "shape = [2,5]\n",
    "x = torch.zeros(shape)\n",
    "print(x.shape)\n",
    "\n",
    "shape = [2,5,4]\n",
    "y = torch.ones(shape)\n",
    "print(y.shape)"
   ]
  },
  {
   "cell_type": "markdown",
   "id": "1621e970-05f2-4419-88ba-0314f7da6828",
   "metadata": {},
   "source": [
    "### Common Operations"
   ]
  },
  {
   "cell_type": "code",
   "execution_count": 28,
   "id": "39b01766-7eed-444a-8882-403b8602bc72",
   "metadata": {},
   "outputs": [],
   "source": [
    "shape = [2,5]\n",
    "y = torch.ones(shape)\n",
    "\n",
    "z = x+y\n",
    "z = x-y\n",
    "y = x.pow(2)\n",
    "y = x.sum()\n",
    "y = x.mean()"
   ]
  },
  {
   "cell_type": "code",
   "execution_count": 30,
   "id": "dcc67e1b-69cf-4c05-ad5a-6bfbce278de9",
   "metadata": {},
   "outputs": [
    {
     "data": {
      "text/plain": [
       "torch.Size([2, 5])"
      ]
     },
     "execution_count": 30,
     "metadata": {},
     "output_type": "execute_result"
    }
   ],
   "source": [
    "#Transpose\n",
    "x = x.transpose(0,1)\n",
    "x.shape"
   ]
  },
  {
   "cell_type": "code",
   "execution_count": 35,
   "id": "f1904e3e-c5fe-4868-814b-ffa0c4f1e515",
   "metadata": {},
   "outputs": [
    {
     "data": {
      "text/plain": [
       "torch.Size([2, 3])"
      ]
     },
     "execution_count": 35,
     "metadata": {},
     "output_type": "execute_result"
    }
   ],
   "source": [
    "#Squeeze\n",
    "#remove the specified dimension with 1\n",
    "x = torch.ones([1,2,3])\n",
    "x = x.squeeze(0)\n",
    "x.shape"
   ]
  },
  {
   "cell_type": "code",
   "execution_count": 38,
   "id": "5693be55-137d-41cb-8e84-4a95fd74c5e4",
   "metadata": {},
   "outputs": [
    {
     "data": {
      "text/plain": [
       "torch.Size([2, 1, 3])"
      ]
     },
     "execution_count": 38,
     "metadata": {},
     "output_type": "execute_result"
    }
   ],
   "source": [
    "#Unqueeze\n",
    "#Expands a new dimension\n",
    "x = torch.ones([2,3])\n",
    "x = x.unsqueeze(1)\n",
    "x.shape"
   ]
  },
  {
   "cell_type": "code",
   "execution_count": 40,
   "id": "f78a745e-0b94-48ba-a5b0-528964c59d67",
   "metadata": {},
   "outputs": [
    {
     "data": {
      "text/plain": [
       "torch.Size([2, 6, 3])"
      ]
     },
     "execution_count": 40,
     "metadata": {},
     "output_type": "execute_result"
    }
   ],
   "source": [
    "x = torch.zeros([2,1,3])\n",
    "y = torch.zeros([2,3,3])\n",
    "z = torch.zeros([2,2,3])\n",
    "\n",
    "w = torch.cat([x,y,z],dim=1)\n",
    "w.shape"
   ]
  },
  {
   "cell_type": "markdown",
   "id": "447873b0-a178-488b-9cff-be9bd62d7959",
   "metadata": {},
   "source": [
    "#### Change of tensors execution system"
   ]
  },
  {
   "cell_type": "code",
   "execution_count": null,
   "id": "81adeffb-0e17-45eb-9b47-7689bc0e6ad8",
   "metadata": {},
   "outputs": [],
   "source": [
    "x = x.to('cpu') #default CPU\n",
    "x = x.to('cuda') #If GPU available"
   ]
  },
  {
   "cell_type": "markdown",
   "id": "b9727a79-cab3-4f78-8950-99b7ff12cbd4",
   "metadata": {},
   "source": [
    "### Gradient Calculation"
   ]
  },
  {
   "cell_type": "markdown",
   "id": "9f10df8b-f40d-4e0d-b89c-0cbc0128d30b",
   "metadata": {},
   "source": [
    "Let $$ z = \\sum_{i=1}^{n} \\sum_{j=1}^{m} x_{i,j}^2 $$"
   ]
  },
  {
   "cell_type": "code",
   "execution_count": 50,
   "id": "633347b5-0177-4971-acbe-477971061b7f",
   "metadata": {},
   "outputs": [
    {
     "data": {
      "text/plain": [
       "tensor([[ 2.,  0.],\n",
       "        [-2.,  2.]])"
      ]
     },
     "execution_count": 50,
     "metadata": {},
     "output_type": "execute_result"
    }
   ],
   "source": [
    "data = [[1.,0.],[-1.,1.]]\n",
    "#1 \n",
    "x = torch.tensor(data, requires_grad = True)\n",
    "#2\n",
    "z = x.pow(2).sum()\n",
    "#3\n",
    "z.backward()\n",
    "#4\n",
    "x.grad"
   ]
  },
  {
   "cell_type": "markdown",
   "id": "3e8faae5-cb24-4302-9925-402665b07936",
   "metadata": {},
   "source": [
    "## Training"
   ]
  },
  {
   "cell_type": "markdown",
   "id": "eba72404-c491-42a9-95e0-62a2959821c2",
   "metadata": {},
   "source": [
    "### Define NN"
   ]
  },
  {
   "cell_type": "code",
   "execution_count": 55,
   "id": "f9b97105-e4b0-49b9-b521-4e43b8ef12c3",
   "metadata": {},
   "outputs": [
    {
     "data": {
      "text/plain": [
       "torch.Size([64, 32])"
      ]
     },
     "execution_count": 55,
     "metadata": {},
     "output_type": "execute_result"
    }
   ],
   "source": [
    "import torch\n",
    "import torch.nn as nn\n",
    "import torch.nn.functional as F\n",
    "# Linear layer (fully connected)\n",
    "#nn.Linear(in_features, out_features)\n",
    "\n",
    "layer = nn.Linear(32,64)\n",
    "layer.weight.shape"
   ]
  },
  {
   "cell_type": "code",
   "execution_count": 56,
   "id": "ea69c0b2-da3e-421e-a80d-fd90dc8b0198",
   "metadata": {},
   "outputs": [
    {
     "data": {
      "text/plain": [
       "torch.Size([64])"
      ]
     },
     "execution_count": 56,
     "metadata": {},
     "output_type": "execute_result"
    }
   ],
   "source": [
    "layer.bias.shape"
   ]
  },
  {
   "cell_type": "code",
   "execution_count": 58,
   "id": "aca07c86-c359-41a9-8342-6bcf696bea52",
   "metadata": {},
   "outputs": [
    {
     "data": {
      "text/plain": [
       "ReLU()"
      ]
     },
     "execution_count": 58,
     "metadata": {},
     "output_type": "execute_result"
    }
   ],
   "source": [
    "#Activation function\n",
    "\n",
    "#Sigmoid activation\n",
    "nn.Sigmoid()\n",
    "\n",
    "#ReLU Activation\n",
    "nn.ReLU()"
   ]
  },
  {
   "cell_type": "code",
   "execution_count": 60,
   "id": "70246ccc-6f4f-4b36-82eb-1ba5841afca0",
   "metadata": {},
   "outputs": [],
   "source": [
    "class MyModel(nn.Module):\n",
    "    def __init__(self):\n",
    "        super(MyModel, self).__init__()\n",
    "        self.layer1 = nn.Linear(10,32)\n",
    "        self.layer2 = nn.Sigmoid(),\n",
    "        self.layer3 = nn.Linear(32,1)\n",
    "\n",
    "    def forward(self,x):\n",
    "        out = self.layer1(x)\n",
    "        out = self.layer2(out)\n",
    "        out = self.layer3(out)\n",
    "        return out"
   ]
  },
  {
   "cell_type": "markdown",
   "id": "08ee3585-c20b-43ea-9fa7-3956bb0829c6",
   "metadata": {},
   "source": [
    "### Loss Function"
   ]
  },
  {
   "cell_type": "code",
   "execution_count": null,
   "id": "c1f91850-a1b5-4e7e-af97-8471ba6be114",
   "metadata": {},
   "outputs": [],
   "source": [
    "#Mean Square Error - For regression tasks\n",
    "criterion = nn.MSELoss()\n",
    "\n",
    "#Cross Entropy - For classification  tasks\n",
    "criterion = nn.CrossEntropyLoss()\n",
    "\n",
    "loss = criterion(model_output, expected_value)"
   ]
  },
  {
   "cell_type": "markdown",
   "id": "ebe09f82-224b-43f0-9913-1adeec47c63f",
   "metadata": {},
   "source": [
    "### Optimization Algorithm"
   ]
  },
  {
   "cell_type": "code",
   "execution_count": null,
   "id": "151acaf4-5373-4eaf-9ffa-284c8f34cf00",
   "metadata": {},
   "outputs": [],
   "source": [
    "#learning rate\n",
    "lr = .01\n",
    "#momentum\n",
    "momentum = 0\n",
    "\n",
    "optimizer = torch.optim.SGD(model_parameters(), lr, momentum)"
   ]
  },
  {
   "cell_type": "code",
   "execution_count": null,
   "id": "d640f366-ba5d-4495-8d2f-ba673935e7cf",
   "metadata": {},
   "outputs": [],
   "source": []
  },
  {
   "cell_type": "code",
   "execution_count": null,
   "id": "a5447813-281c-438e-a219-8f6ca3e796d0",
   "metadata": {},
   "outputs": [],
   "source": []
  },
  {
   "cell_type": "code",
   "execution_count": null,
   "id": "29594436-ed78-4374-bc7d-14c13c3ab969",
   "metadata": {},
   "outputs": [],
   "source": []
  }
 ],
 "metadata": {
  "kernelspec": {
   "display_name": "Python 3 (ipykernel)",
   "language": "python",
   "name": "python3"
  },
  "language_info": {
   "codemirror_mode": {
    "name": "ipython",
    "version": 3
   },
   "file_extension": ".py",
   "mimetype": "text/x-python",
   "name": "python",
   "nbconvert_exporter": "python",
   "pygments_lexer": "ipython3",
   "version": "3.11.7"
  }
 },
 "nbformat": 4,
 "nbformat_minor": 5
}
