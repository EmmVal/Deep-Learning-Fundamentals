{
 "cells": [
  {
   "cell_type": "markdown",
   "metadata": {
    "id": "lWhGfO-s1jm6"
   },
   "source": [
    "# **TENSORS**\n",
    "\n",
    "*   A torch.Tensor is a multi-dimensional matrix containing elements of a single data type.\n",
    "\n",
    "*   Similar To Numpy Arrays, but full of fun things that make them work better on GPU's (vs regular CPU's).\n",
    "\n",
    "*  default data type of float32.\n",
    "\n",
    "* More suitable for deep learning than a numpy array."
   ]
  },
  {
   "cell_type": "code",
   "execution_count": 1,
   "metadata": {
    "executionInfo": {
     "elapsed": 4894,
     "status": "ok",
     "timestamp": 1726710007986,
     "user": {
      "displayName": "VALA4444",
      "userId": "04889586876585086707"
     },
     "user_tz": -570
    },
    "id": "oMl2RXKvzcKF"
   },
   "outputs": [],
   "source": [
    "import torch\n",
    "import numpy as np"
   ]
  },
  {
   "cell_type": "markdown",
   "metadata": {
    "id": "WM41vDj914Nw"
   },
   "source": [
    "# **Lists**"
   ]
  },
  {
   "cell_type": "code",
   "execution_count": 3,
   "metadata": {
    "colab": {
     "base_uri": "https://localhost:8080/"
    },
    "executionInfo": {
     "elapsed": 595,
     "status": "ok",
     "timestamp": 1726708789770,
     "user": {
      "displayName": "VALA4444",
      "userId": "04889586876585086707"
     },
     "user_tz": -570
    },
    "id": "25UwobCo10oL",
    "outputId": "8e136535-4e60-4846-dfc1-4c3c7562aa60"
   },
   "outputs": [
    {
     "data": {
      "text/plain": [
       "[[1, 2, 3, 4, 5], [6, 7, 8, 9]]"
      ]
     },
     "execution_count": 3,
     "metadata": {},
     "output_type": "execute_result"
    }
   ],
   "source": [
    "my_list = [[1,2,3,4,5], [6,7,8,9]]\n",
    "my_list"
   ]
  },
  {
   "cell_type": "markdown",
   "metadata": {
    "id": "nm-1E5o610zL"
   },
   "source": [
    "# **Numpy arrays**"
   ]
  },
  {
   "cell_type": "code",
   "execution_count": 4,
   "metadata": {
    "colab": {
     "base_uri": "https://localhost:8080/"
    },
    "executionInfo": {
     "elapsed": 7,
     "status": "ok",
     "timestamp": 1726708825794,
     "user": {
      "displayName": "VALA4444",
      "userId": "04889586876585086707"
     },
     "user_tz": -570
    },
    "id": "JtkdHw2K101z",
    "outputId": "07ca7e98-dd96-43bb-9ac4-83be092f72cc"
   },
   "outputs": [
    {
     "data": {
      "text/plain": [
       "array([[0.23717229, 0.26913649, 0.78741468, 0.73027478],\n",
       "       [0.19596412, 0.56426068, 0.76221497, 0.37396031],\n",
       "       [0.12857089, 0.53343878, 0.382568  , 0.37325646]])"
      ]
     },
     "execution_count": 4,
     "metadata": {},
     "output_type": "execute_result"
    }
   ],
   "source": [
    "np1 = np.random.rand(3,4)\n",
    "np1"
   ]
  },
  {
   "cell_type": "markdown",
   "metadata": {
    "id": "-ZtbCPhD105C"
   },
   "source": [
    "# **Tensors**"
   ]
  },
  {
   "cell_type": "code",
   "execution_count": 6,
   "metadata": {
    "colab": {
     "base_uri": "https://localhost:8080/"
    },
    "executionInfo": {
     "elapsed": 624,
     "status": "ok",
     "timestamp": 1726708898580,
     "user": {
      "displayName": "VALA4444",
      "userId": "04889586876585086707"
     },
     "user_tz": -570
    },
    "id": "aoqMZ7OQ11B7",
    "outputId": "b89327a2-225a-492b-8d97-f1ee3db9e3e2"
   },
   "outputs": [
    {
     "data": {
      "text/plain": [
       "tensor([[-1.2693, -0.3604,  0.8877,  0.7403],\n",
       "        [-0.4374,  0.8939,  0.9173,  1.3717],\n",
       "        [-0.1585,  1.7911,  0.5584, -2.4298]])"
      ]
     },
     "execution_count": 6,
     "metadata": {},
     "output_type": "execute_result"
    }
   ],
   "source": [
    "tensor_2d = torch.randn(3,4)\n",
    "tensor_2d"
   ]
  },
  {
   "cell_type": "code",
   "execution_count": 8,
   "metadata": {
    "colab": {
     "base_uri": "https://localhost:8080/"
    },
    "executionInfo": {
     "elapsed": 9,
     "status": "ok",
     "timestamp": 1726708970460,
     "user": {
      "displayName": "VALA4444",
      "userId": "04889586876585086707"
     },
     "user_tz": -570
    },
    "id": "aKuOFfKz31_p",
    "outputId": "25a2af65-e4de-4a58-872f-c062082ac11f"
   },
   "outputs": [
    {
     "data": {
      "text/plain": [
       "tensor([[[0., 0., 0., 0.],\n",
       "         [0., 0., 0., 0.],\n",
       "         [0., 0., 0., 0.]],\n",
       "\n",
       "        [[0., 0., 0., 0.],\n",
       "         [0., 0., 0., 0.],\n",
       "         [0., 0., 0., 0.]]])"
      ]
     },
     "execution_count": 8,
     "metadata": {},
     "output_type": "execute_result"
    }
   ],
   "source": [
    "tensor_3d = torch.zeros(2,3,4)\n",
    "tensor_3d"
   ]
  },
  {
   "cell_type": "code",
   "execution_count": 9,
   "metadata": {
    "colab": {
     "base_uri": "https://localhost:8080/"
    },
    "executionInfo": {
     "elapsed": 700,
     "status": "ok",
     "timestamp": 1726709102859,
     "user": {
      "displayName": "VALA4444",
      "userId": "04889586876585086707"
     },
     "user_tz": -570
    },
    "id": "_B4_j_Ml4Yrx",
    "outputId": "a6ebfe15-8fe6-4f12-f954-23a79f752d94"
   },
   "outputs": [
    {
     "data": {
      "text/plain": [
       "tensor([[0.2372, 0.2691, 0.7874, 0.7303],\n",
       "        [0.1960, 0.5643, 0.7622, 0.3740],\n",
       "        [0.1286, 0.5334, 0.3826, 0.3733]], dtype=torch.float64)"
      ]
     },
     "execution_count": 9,
     "metadata": {},
     "output_type": "execute_result"
    }
   ],
   "source": [
    "## Create tensor out of numpy array\n",
    "my_tensor = torch.tensor(np1)\n",
    "my_tensor"
   ]
  },
  {
   "cell_type": "code",
   "execution_count": 11,
   "metadata": {
    "colab": {
     "base_uri": "https://localhost:8080/"
    },
    "executionInfo": {
     "elapsed": 589,
     "status": "ok",
     "timestamp": 1726709289615,
     "user": {
      "displayName": "VALA4444",
      "userId": "04889586876585086707"
     },
     "user_tz": -570
    },
    "id": "ciUjzHF85Blp",
    "outputId": "0398980b-d01a-48f1-c45a-61590f18bb6e"
   },
   "outputs": [
    {
     "data": {
      "text/plain": [
       "tensor([0, 1, 2, 3, 4, 5, 6, 7, 8, 9])"
      ]
     },
     "execution_count": 11,
     "metadata": {},
     "output_type": "execute_result"
    }
   ],
   "source": [
    "my_torch = torch.arange(10)\n",
    "my_torch"
   ]
  },
  {
   "cell_type": "code",
   "execution_count": 12,
   "metadata": {
    "colab": {
     "base_uri": "https://localhost:8080/"
    },
    "executionInfo": {
     "elapsed": 621,
     "status": "ok",
     "timestamp": 1726709399935,
     "user": {
      "displayName": "VALA4444",
      "userId": "04889586876585086707"
     },
     "user_tz": -570
    },
    "id": "pBY2IOgh5DX1",
    "outputId": "95043c53-b4b3-4516-9cd2-029390a51cf4"
   },
   "outputs": [
    {
     "data": {
      "text/plain": [
       "tensor([[0, 1, 2, 3, 4],\n",
       "        [5, 6, 7, 8, 9]])"
      ]
     },
     "execution_count": 12,
     "metadata": {},
     "output_type": "execute_result"
    }
   ],
   "source": [
    "# Reshape and View\n",
    "my_torch = my_torch.reshape(2,5)\n",
    "my_torch"
   ]
  },
  {
   "cell_type": "code",
   "execution_count": null,
   "metadata": {
    "id": "L82XEm0a6wes"
   },
   "outputs": [],
   "source": [
    "my_torch3 = torch.arange(10)\n",
    "my_torch3 = my_torch3.view(2,5)\n",
    "my_torch3"
   ]
  },
  {
   "cell_type": "code",
   "execution_count": 14,
   "metadata": {
    "colab": {
     "base_uri": "https://localhost:8080/"
    },
    "executionInfo": {
     "elapsed": 719,
     "status": "ok",
     "timestamp": 1726709549442,
     "user": {
      "displayName": "VALA4444",
      "userId": "04889586876585086707"
     },
     "user_tz": -570
    },
    "id": "y4UN1c815DjQ",
    "outputId": "1d50acb6-d38d-43dc-a21f-03bec8ccc9f4"
   },
   "outputs": [
    {
     "data": {
      "text/plain": [
       "tensor([[ 0,  1,  2],\n",
       "        [ 3,  4,  5],\n",
       "        [ 6,  7,  8],\n",
       "        [ 9, 10, 11],\n",
       "        [12, 13, 14]])"
      ]
     },
     "execution_count": 14,
     "metadata": {},
     "output_type": "execute_result"
    }
   ],
   "source": [
    "# Reshape if we don´t know number of items, use -1\n",
    "my_torch2 = torch.arange(15)\n",
    "my_torch2 = my_torch2.reshape(5,-1)\n",
    "my_torch2"
   ]
  },
  {
   "cell_type": "code",
   "execution_count": 16,
   "metadata": {
    "colab": {
     "base_uri": "https://localhost:8080/"
    },
    "executionInfo": {
     "elapsed": 600,
     "status": "ok",
     "timestamp": 1726709573404,
     "user": {
      "displayName": "VALA4444",
      "userId": "04889586876585086707"
     },
     "user_tz": -570
    },
    "id": "1O3P7iDn5Dml",
    "outputId": "0aaa094b-f61a-4dbb-8e21-df8e5ff984af"
   },
   "outputs": [
    {
     "data": {
      "text/plain": [
       "tensor([[ 0,  1,  2,  3,  4],\n",
       "        [ 5,  6,  7,  8,  9],\n",
       "        [10, 11, 12, 13, 14]])"
      ]
     },
     "execution_count": 16,
     "metadata": {},
     "output_type": "execute_result"
    }
   ],
   "source": [
    "my_torch2 = torch.arange(15)\n",
    "my_torch2 = my_torch2.reshape(-1,5)\n",
    "my_torch2"
   ]
  },
  {
   "cell_type": "code",
   "execution_count": 4,
   "metadata": {
    "colab": {
     "base_uri": "https://localhost:8080/"
    },
    "executionInfo": {
     "elapsed": 478,
     "status": "ok",
     "timestamp": 1726710203472,
     "user": {
      "displayName": "VALA4444",
      "userId": "04889586876585086707"
     },
     "user_tz": -570
    },
    "id": "NMTeM6an6bpB",
    "outputId": "b4045bd9-1bbb-4537-a760-80b73070fc31"
   },
   "outputs": [
    {
     "data": {
      "text/plain": [
       "tensor([[   0, 4141,    2,    3,    4],\n",
       "        [   5,    6,    7,    8,    9]])"
      ]
     },
     "execution_count": 4,
     "metadata": {},
     "output_type": "execute_result"
    }
   ],
   "source": [
    "#One change in tensor\n",
    "my_torch5 = torch.arange(10)\n",
    "my_torch6 = my_torch5.reshape(2,-1)\n",
    "\n",
    "my_torch5[1]=4141\n",
    "my_torch6"
   ]
  },
  {
   "cell_type": "code",
   "execution_count": 7,
   "metadata": {
    "colab": {
     "base_uri": "https://localhost:8080/"
    },
    "executionInfo": {
     "elapsed": 410,
     "status": "ok",
     "timestamp": 1726710256310,
     "user": {
      "displayName": "VALA4444",
      "userId": "04889586876585086707"
     },
     "user_tz": -570
    },
    "id": "RQNjHFsB8uqq",
    "outputId": "aa217a1a-d8ea-4856-bc2a-ee4f6e04b56e"
   },
   "outputs": [
    {
     "data": {
      "text/plain": [
       "tensor(7)"
      ]
     },
     "execution_count": 7,
     "metadata": {},
     "output_type": "execute_result"
    }
   ],
   "source": [
    "# Slices\n",
    "my_torch7 = torch.arange(10)\n",
    "my_torch7[7]"
   ]
  },
  {
   "cell_type": "code",
   "execution_count": 9,
   "metadata": {
    "colab": {
     "base_uri": "https://localhost:8080/"
    },
    "executionInfo": {
     "elapsed": 403,
     "status": "ok",
     "timestamp": 1726710421067,
     "user": {
      "displayName": "VALA4444",
      "userId": "04889586876585086707"
     },
     "user_tz": -570
    },
    "id": "FBoLOys19XLZ",
    "outputId": "3c6b52e4-f637-4b0e-cca6-c1cc9927026a"
   },
   "outputs": [
    {
     "data": {
      "text/plain": [
       "tensor([[0, 1],\n",
       "        [2, 3],\n",
       "        [4, 5],\n",
       "        [6, 7],\n",
       "        [8, 9]])"
      ]
     },
     "execution_count": 9,
     "metadata": {},
     "output_type": "execute_result"
    }
   ],
   "source": [
    "my_torch8 = my_torch7.reshape(5,-1)\n",
    "my_torch8"
   ]
  },
  {
   "cell_type": "code",
   "execution_count": 13,
   "metadata": {
    "colab": {
     "base_uri": "https://localhost:8080/"
    },
    "executionInfo": {
     "elapsed": 414,
     "status": "ok",
     "timestamp": 1726710507390,
     "user": {
      "displayName": "VALA4444",
      "userId": "04889586876585086707"
     },
     "user_tz": -570
    },
    "id": "NgXQp6x3903I",
    "outputId": "e2e2abb8-d09c-4f15-c9d0-19a5614a4b87"
   },
   "outputs": [
    {
     "data": {
      "text/plain": [
       "tensor([[1],\n",
       "        [3],\n",
       "        [5],\n",
       "        [7],\n",
       "        [9]])"
      ]
     },
     "execution_count": 13,
     "metadata": {},
     "output_type": "execute_result"
    }
   ],
   "source": [
    "my_torch8[:,1:]"
   ]
  },
  {
   "cell_type": "code",
   "execution_count": 12,
   "metadata": {
    "colab": {
     "base_uri": "https://localhost:8080/"
    },
    "executionInfo": {
     "elapsed": 8,
     "status": "ok",
     "timestamp": 1726710488492,
     "user": {
      "displayName": "VALA4444",
      "userId": "04889586876585086707"
     },
     "user_tz": -570
    },
    "id": "ES5uuH6w9iW3",
    "outputId": "391286ea-14c0-4849-9a7a-05115822b01e"
   },
   "outputs": [
    {
     "data": {
      "text/plain": [
       "torch.Size([5, 1])"
      ]
     },
     "execution_count": 12,
     "metadata": {},
     "output_type": "execute_result"
    }
   ],
   "source": [
    "my_torch8[:,1:].shape"
   ]
  },
  {
   "cell_type": "markdown",
   "metadata": {
    "id": "EfVhJFB8-J_g"
   },
   "source": [
    "### Tensor Maths Operations"
   ]
  },
  {
   "cell_type": "code",
   "execution_count": 14,
   "metadata": {
    "executionInfo": {
     "elapsed": 408,
     "status": "ok",
     "timestamp": 1726711349324,
     "user": {
      "displayName": "VALA4444",
      "userId": "04889586876585086707"
     },
     "user_tz": -570
    },
    "id": "f-meoGLB-P7q"
   },
   "outputs": [],
   "source": [
    "tensor_a = torch.tensor([1,2,3,4])\n",
    "tensor_b = torch.tensor([5,6,7,8])"
   ]
  },
  {
   "cell_type": "code",
   "execution_count": 15,
   "metadata": {
    "colab": {
     "base_uri": "https://localhost:8080/"
    },
    "executionInfo": {
     "elapsed": 531,
     "status": "ok",
     "timestamp": 1726711352861,
     "user": {
      "displayName": "VALA4444",
      "userId": "04889586876585086707"
     },
     "user_tz": -570
    },
    "id": "M3GGcz09Am0C",
    "outputId": "c806cf9d-4e07-4671-c108-cb983825b23e"
   },
   "outputs": [
    {
     "data": {
      "text/plain": [
       "tensor([ 6,  8, 10, 12])"
      ]
     },
     "execution_count": 15,
     "metadata": {},
     "output_type": "execute_result"
    }
   ],
   "source": [
    "# Addition\n",
    "tensor_a + tensor_b"
   ]
  },
  {
   "cell_type": "code",
   "execution_count": 16,
   "metadata": {
    "colab": {
     "base_uri": "https://localhost:8080/"
    },
    "executionInfo": {
     "elapsed": 414,
     "status": "ok",
     "timestamp": 1726711358134,
     "user": {
      "displayName": "VALA4444",
      "userId": "04889586876585086707"
     },
     "user_tz": -570
    },
    "id": "YCiCLc8oAm6l",
    "outputId": "54cc1fb2-fcea-4c95-ea2f-47deb45fd9b1"
   },
   "outputs": [
    {
     "data": {
      "text/plain": [
       "tensor([ 6,  8, 10, 12])"
      ]
     },
     "execution_count": 16,
     "metadata": {},
     "output_type": "execute_result"
    }
   ],
   "source": [
    "# Addition Longhand\n",
    "torch.add(tensor_a, tensor_b)"
   ]
  },
  {
   "cell_type": "code",
   "execution_count": 17,
   "metadata": {
    "colab": {
     "base_uri": "https://localhost:8080/"
    },
    "executionInfo": {
     "elapsed": 488,
     "status": "ok",
     "timestamp": 1726711360491,
     "user": {
      "displayName": "VALA4444",
      "userId": "04889586876585086707"
     },
     "user_tz": -570
    },
    "id": "Cz0JlQWTAm9b",
    "outputId": "ed068d3d-e80f-4481-ec30-d4dc720b90ac"
   },
   "outputs": [
    {
     "data": {
      "text/plain": [
       "tensor([4, 4, 4, 4])"
      ]
     },
     "execution_count": 17,
     "metadata": {},
     "output_type": "execute_result"
    }
   ],
   "source": [
    "# Subtraction\n",
    "tensor_b - tensor_a"
   ]
  },
  {
   "cell_type": "code",
   "execution_count": 18,
   "metadata": {
    "colab": {
     "base_uri": "https://localhost:8080/"
    },
    "executionInfo": {
     "elapsed": 1360,
     "status": "ok",
     "timestamp": 1726711379297,
     "user": {
      "displayName": "VALA4444",
      "userId": "04889586876585086707"
     },
     "user_tz": -570
    },
    "id": "NOPqUuTkAnAB",
    "outputId": "3158e30a-8ec8-47b1-8d37-7d2947d14fb9"
   },
   "outputs": [
    {
     "data": {
      "text/plain": [
       "tensor([4, 4, 4, 4])"
      ]
     },
     "execution_count": 18,
     "metadata": {},
     "output_type": "execute_result"
    }
   ],
   "source": [
    "# Sub Function\n",
    "torch.sub(tensor_b, tensor_a)"
   ]
  },
  {
   "cell_type": "code",
   "execution_count": 19,
   "metadata": {
    "colab": {
     "base_uri": "https://localhost:8080/"
    },
    "executionInfo": {
     "elapsed": 12,
     "status": "ok",
     "timestamp": 1726711379298,
     "user": {
      "displayName": "VALA4444",
      "userId": "04889586876585086707"
     },
     "user_tz": -570
    },
    "id": "hxoHlhqlAnC8",
    "outputId": "78c248ad-4b01-4a93-bc34-16e6acc87008"
   },
   "outputs": [
    {
     "data": {
      "text/plain": [
       "tensor([ 5, 12, 21, 32])"
      ]
     },
     "execution_count": 19,
     "metadata": {},
     "output_type": "execute_result"
    }
   ],
   "source": [
    "# Multiplication\n",
    "tensor_a * tensor_b"
   ]
  },
  {
   "cell_type": "code",
   "execution_count": 20,
   "metadata": {
    "colab": {
     "base_uri": "https://localhost:8080/"
    },
    "executionInfo": {
     "elapsed": 2,
     "status": "ok",
     "timestamp": 1726711380528,
     "user": {
      "displayName": "VALA4444",
      "userId": "04889586876585086707"
     },
     "user_tz": -570
    },
    "id": "pQ-72KybAnFv",
    "outputId": "d4e2769b-2bb8-4d4b-c7be-a30178d814e9"
   },
   "outputs": [
    {
     "data": {
      "text/plain": [
       "tensor([ 5, 12, 21, 32])"
      ]
     },
     "execution_count": 20,
     "metadata": {},
     "output_type": "execute_result"
    }
   ],
   "source": [
    "# Mul longhand\n",
    "torch.mul(tensor_a, tensor_b)"
   ]
  },
  {
   "cell_type": "code",
   "execution_count": 21,
   "metadata": {
    "colab": {
     "base_uri": "https://localhost:8080/"
    },
    "executionInfo": {
     "elapsed": 8,
     "status": "ok",
     "timestamp": 1726711383122,
     "user": {
      "displayName": "VALA4444",
      "userId": "04889586876585086707"
     },
     "user_tz": -570
    },
    "id": "NiehwGyQAnIc",
    "outputId": "0892c415-2492-487f-ee41-0029f022aae5"
   },
   "outputs": [
    {
     "data": {
      "text/plain": [
       "tensor([5.0000, 3.0000, 2.3333, 2.0000])"
      ]
     },
     "execution_count": 21,
     "metadata": {},
     "output_type": "execute_result"
    }
   ],
   "source": [
    "# Division\n",
    "tensor_b / tensor_a"
   ]
  },
  {
   "cell_type": "code",
   "execution_count": 22,
   "metadata": {
    "colab": {
     "base_uri": "https://localhost:8080/"
    },
    "executionInfo": {
     "elapsed": 7,
     "status": "ok",
     "timestamp": 1726711383123,
     "user": {
      "displayName": "VALA4444",
      "userId": "04889586876585086707"
     },
     "user_tz": -570
    },
    "id": "A62p1YhtAnMB",
    "outputId": "0075a07c-b853-4e35-b7a9-710978cbba62"
   },
   "outputs": [
    {
     "data": {
      "text/plain": [
       "tensor([5.0000, 3.0000, 2.3333, 2.0000])"
      ]
     },
     "execution_count": 22,
     "metadata": {},
     "output_type": "execute_result"
    }
   ],
   "source": [
    "# Div Longhand\n",
    "torch.div(tensor_b, tensor_a)"
   ]
  },
  {
   "cell_type": "code",
   "execution_count": 23,
   "metadata": {
    "colab": {
     "base_uri": "https://localhost:8080/"
    },
    "executionInfo": {
     "elapsed": 23,
     "status": "ok",
     "timestamp": 1726711384358,
     "user": {
      "displayName": "VALA4444",
      "userId": "04889586876585086707"
     },
     "user_tz": -570
    },
    "id": "XQ_sV2XoA0wv",
    "outputId": "7a3e15c5-d8f8-41b7-9125-fdf5f1a6a19e"
   },
   "outputs": [
    {
     "data": {
      "text/plain": [
       "tensor([0, 0, 1, 0])"
      ]
     },
     "execution_count": 23,
     "metadata": {},
     "output_type": "execute_result"
    }
   ],
   "source": [
    "# Remainder Modulus\n",
    "tensor_b % tensor_a"
   ]
  },
  {
   "cell_type": "code",
   "execution_count": 24,
   "metadata": {
    "colab": {
     "base_uri": "https://localhost:8080/"
    },
    "executionInfo": {
     "elapsed": 19,
     "status": "ok",
     "timestamp": 1726711384359,
     "user": {
      "displayName": "VALA4444",
      "userId": "04889586876585086707"
     },
     "user_tz": -570
    },
    "id": "LlFLn7U_A0tS",
    "outputId": "d29d2fd9-7aab-4dbd-d57d-a5b20355e76a"
   },
   "outputs": [
    {
     "data": {
      "text/plain": [
       "tensor([0, 0, 1, 0])"
      ]
     },
     "execution_count": 24,
     "metadata": {},
     "output_type": "execute_result"
    }
   ],
   "source": [
    "# Remainder longhand\n",
    "torch.remainder(tensor_b, tensor_a)"
   ]
  },
  {
   "cell_type": "code",
   "execution_count": 25,
   "metadata": {
    "colab": {
     "base_uri": "https://localhost:8080/"
    },
    "executionInfo": {
     "elapsed": 11,
     "status": "ok",
     "timestamp": 1726711384359,
     "user": {
      "displayName": "VALA4444",
      "userId": "04889586876585086707"
     },
     "user_tz": -570
    },
    "id": "yvw6cqLCA0qh",
    "outputId": "0abbe331-bccc-4203-f379-6ae8dfea5900"
   },
   "outputs": [
    {
     "data": {
      "text/plain": [
       "tensor([    1,    64,  2187, 65536])"
      ]
     },
     "execution_count": 25,
     "metadata": {},
     "output_type": "execute_result"
    }
   ],
   "source": [
    "# Exponents / power\n",
    "torch.pow(tensor_a, tensor_b)"
   ]
  },
  {
   "cell_type": "code",
   "execution_count": 26,
   "metadata": {
    "colab": {
     "base_uri": "https://localhost:8080/"
    },
    "executionInfo": {
     "elapsed": 20,
     "status": "ok",
     "timestamp": 1726711385475,
     "user": {
      "displayName": "VALA4444",
      "userId": "04889586876585086707"
     },
     "user_tz": -570
    },
    "id": "_7aRQgt4A0oS",
    "outputId": "03d67781-9ca2-44e6-ff4c-e15155218eb1"
   },
   "outputs": [
    {
     "data": {
      "text/plain": [
       "tensor([ 6,  8, 10, 12])"
      ]
     },
     "execution_count": 26,
     "metadata": {},
     "output_type": "execute_result"
    }
   ],
   "source": [
    "# Another way to write longhand\n",
    "tensor_a.add(tensor_b)"
   ]
  },
  {
   "cell_type": "code",
   "execution_count": 27,
   "metadata": {
    "colab": {
     "base_uri": "https://localhost:8080/"
    },
    "executionInfo": {
     "elapsed": 18,
     "status": "ok",
     "timestamp": 1726711385476,
     "user": {
      "displayName": "VALA4444",
      "userId": "04889586876585086707"
     },
     "user_tz": -570
    },
    "id": "miccaVUxA0ho",
    "outputId": "0ea99442-fde4-485a-fc1c-cd64137973f1"
   },
   "outputs": [
    {
     "data": {
      "text/plain": [
       "tensor([ 6,  8, 10, 12])"
      ]
     },
     "execution_count": 27,
     "metadata": {},
     "output_type": "execute_result"
    }
   ],
   "source": [
    "# Reassignment_\n",
    "tensor_a + tensor_b"
   ]
  },
  {
   "cell_type": "code",
   "execution_count": 28,
   "metadata": {
    "colab": {
     "base_uri": "https://localhost:8080/"
    },
    "executionInfo": {
     "elapsed": 12,
     "status": "ok",
     "timestamp": 1726711385476,
     "user": {
      "displayName": "VALA4444",
      "userId": "04889586876585086707"
     },
     "user_tz": -570
    },
    "id": "hSOUfRrHA89o",
    "outputId": "c8aaf90e-eada-4297-e7ae-f85e6470083e"
   },
   "outputs": [
    {
     "data": {
      "text/plain": [
       "tensor([1, 2, 3, 4])"
      ]
     },
     "execution_count": 28,
     "metadata": {},
     "output_type": "execute_result"
    }
   ],
   "source": [
    "tensor_a"
   ]
  },
  {
   "cell_type": "code",
   "execution_count": 29,
   "metadata": {
    "colab": {
     "base_uri": "https://localhost:8080/"
    },
    "executionInfo": {
     "elapsed": 16,
     "status": "ok",
     "timestamp": 1726711386104,
     "user": {
      "displayName": "VALA4444",
      "userId": "04889586876585086707"
     },
     "user_tz": -570
    },
    "id": "mk6BAURsA86o",
    "outputId": "75a9fa03-5a66-4e7e-fec4-23493839d71d"
   },
   "outputs": [
    {
     "data": {
      "text/plain": [
       "tensor([ 6,  8, 10, 12])"
      ]
     },
     "execution_count": 29,
     "metadata": {},
     "output_type": "execute_result"
    }
   ],
   "source": [
    "#tensor_a = tensor_a + tensor_b\n",
    "tensor_a.add_(tensor_b)"
   ]
  },
  {
   "cell_type": "code",
   "execution_count": 30,
   "metadata": {
    "colab": {
     "base_uri": "https://localhost:8080/"
    },
    "executionInfo": {
     "elapsed": 14,
     "status": "ok",
     "timestamp": 1726711386105,
     "user": {
      "displayName": "VALA4444",
      "userId": "04889586876585086707"
     },
     "user_tz": -570
    },
    "id": "t-tu1phSA83p",
    "outputId": "f6c80c8c-7707-4f87-9e17-1e6e57af73c0"
   },
   "outputs": [
    {
     "data": {
      "text/plain": [
       "tensor([ 6,  8, 10, 12])"
      ]
     },
     "execution_count": 30,
     "metadata": {},
     "output_type": "execute_result"
    }
   ],
   "source": [
    "tensor_a"
   ]
  },
  {
   "cell_type": "code",
   "execution_count": 30,
   "metadata": {
    "executionInfo": {
     "elapsed": 5,
     "status": "ok",
     "timestamp": 1726711387060,
     "user": {
      "displayName": "VALA4444",
      "userId": "04889586876585086707"
     },
     "user_tz": -570
    },
    "id": "j47EwPTdA8va"
   },
   "outputs": [],
   "source": []
  },
  {
   "cell_type": "code",
   "execution_count": null,
   "metadata": {
    "id": "GnixDxkcA8sA"
   },
   "outputs": [],
   "source": []
  }
 ],
 "metadata": {
  "colab": {
   "authorship_tag": "ABX9TyMBEiJzUZu5cXrPKHRkMexV",
   "provenance": []
  },
  "kernelspec": {
   "display_name": "Python 3 (ipykernel)",
   "language": "python",
   "name": "python3"
  },
  "language_info": {
   "codemirror_mode": {
    "name": "ipython",
    "version": 3
   },
   "file_extension": ".py",
   "mimetype": "text/x-python",
   "name": "python",
   "nbconvert_exporter": "python",
   "pygments_lexer": "ipython3",
   "version": "3.11.7"
  }
 },
 "nbformat": 4,
 "nbformat_minor": 4
}
